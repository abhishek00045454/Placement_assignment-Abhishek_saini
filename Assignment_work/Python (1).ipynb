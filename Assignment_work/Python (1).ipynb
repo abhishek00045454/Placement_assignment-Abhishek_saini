{
 "cells": [
  {
   "cell_type": "code",
   "execution_count": 3,
   "metadata": {},
   "outputs": [
    {
     "data": {
      "text/plain": [
       "'\\nQuestion 1: -\\nWrite a program that takes a string as input, and counts the frequency of each word in the string, there might\\nbe repeated characters in the string. Your task is to find the highest frequency and returns the length of the\\nhighest-frequency word.\\n\\nNote - You have to write at least 2 additional test cases in which your program will run successfully and provide\\nan explanation for the same.\\nExample input - string = “write write write all the number from from from 1 to 100”\\nExample output - 5\\nExplanation - From the given string we can note that the most frequent words are “write” and “from” and\\nthe maximum value of both the values is “write” and its corresponding length is 5\\n'"
      ]
     },
     "execution_count": 3,
     "metadata": {},
     "output_type": "execute_result"
    }
   ],
   "source": [
    "\"\"\"\n",
    "Question 1: -\n",
    "Write a program that takes a string as input, and counts the frequency of each word in the string, there might\n",
    "be repeated characters in the string. Your task is to find the highest frequency and returns the length of the\n",
    "highest-frequency word.\n",
    "\n",
    "Note - You have to write at least 2 additional test cases in which your program will run successfully and provide\n",
    "an explanation for the same.\n",
    "Example input - string = “write write write all the number from from from 1 to 100”\n",
    "Example output - 5\n",
    "Explanation - From the given string we can note that the most frequent words are “write” and “from” and\n",
    "the maximum value of both the values is “write” and its corresponding length is 5\n",
    "\"\"\""
   ]
  },
  {
   "cell_type": "code",
   "execution_count": 4,
   "metadata": {},
   "outputs": [
    {
     "name": "stdout",
     "output_type": "stream",
     "text": [
      "5\n"
     ]
    }
   ],
   "source": [
    "def get_length_of_highest_frequency_word(string):\n",
    "    # Split the string into words\n",
    "    words = string.split()\n",
    "\n",
    "    # Count the frequency of each word\n",
    "    word_frequency = {}\n",
    "    for word in words:\n",
    "        if word in word_frequency:\n",
    "            word_frequency[word] += 1\n",
    "        else:\n",
    "            word_frequency[word] = 1\n",
    "\n",
    "    # Find the highest frequency\n",
    "    max_frequency = max(word_frequency.values())\n",
    "\n",
    "    # Find the length of the highest-frequency word\n",
    "    highest_frequency_word_length = max(len(word) for word, frequency in word_frequency.items() if frequency == max_frequency)\n",
    "\n",
    "    return highest_frequency_word_length\n",
    "\n",
    "# Example usage\n",
    "string = \"write write write all the number from from from 1 to 100\"\n",
    "result = get_length_of_highest_frequency_word(string)\n",
    "print(result)  # Output: 5\n"
   ]
  },
  {
   "cell_type": "code",
   "execution_count": 5,
   "metadata": {},
   "outputs": [
    {
     "data": {
      "text/plain": [
       "'\\nConsider a string to be valid if all characters of the string appear the same number of times. It is also valid if\\nhe can remove just one character at the index in the string, and the remaining characters will occur the same\\nnumber of times. Given a string, determine if it is valid. If so, return YES , otherwise return NO .\\n\\nNote - You have to write at least 2 additional test cases in which your program will run successfully and provide\\nan explanation for the same.\\nExample input 1 - s = “abc”. This is a valid string because frequencies are { “a”: 1, “b”: 1, “c”: 1 }\\nExample output 1- YES\\nExample input 2 - s “abcc”. This string is not valid as we can remove only 1 occurrence of “c”. That leaves\\ncharacter frequencies of { “a”: 1, “b”: 1 , “c”: 2 }\\nExample output 2 - NO\\n'"
      ]
     },
     "execution_count": 5,
     "metadata": {},
     "output_type": "execute_result"
    }
   ],
   "source": [
    "\"\"\"\n",
    "qUESTTION-2.Consider a string to be valid if all characters of the string appear the same number of times. It is also valid if\n",
    "he can remove just one character at the index in the string, and the remaining characters will occur the same\n",
    "number of times. Given a string, determine if it is valid. If so, return YES , otherwise return NO .\n",
    "\n",
    "Note - You have to write at least 2 additional test cases in which your program will run successfully and provide\n",
    "an explanation for the same.\n",
    "Example input 1 - s = “abc”. This is a valid string because frequencies are { “a”: 1, “b”: 1, “c”: 1 }\n",
    "Example output 1- YES\n",
    "Example input 2 - s “abcc”. This string is not valid as we can remove only 1 occurrence of “c”. That leaves\n",
    "character frequencies of { “a”: 1, “b”: 1 , “c”: 2 }\n",
    "Example output 2 - NO\n",
    "\"\"\""
   ]
  },
  {
   "cell_type": "code",
   "execution_count": 6,
   "metadata": {},
   "outputs": [
    {
     "name": "stdout",
     "output_type": "stream",
     "text": [
      "YES\n",
      "YES\n"
     ]
    }
   ],
   "source": [
    "from collections import Counter\n",
    "\n",
    "def is_valid_string(s):\n",
    "    char_frequency = Counter(s)\n",
    "\n",
    "    frequencies = list(char_frequency.values())\n",
    "    frequency_count = Counter(frequencies)\n",
    "\n",
    "    if len(frequency_count) == 1:\n",
    "        return \"YES\"\n",
    "\n",
    "    if len(frequency_count) == 2 and 1 in frequency_count.values():\n",
    "        return \"YES\"\n",
    "\n",
    "    return \"NO\"\n",
    "\n",
    "# Example usage\n",
    "s = \"abc\"\n",
    "result = is_valid_string(s)\n",
    "print(result)  # Output: YES\n",
    "\n",
    "s = \"abcc\"\n",
    "result = is_valid_string(s)\n",
    "print(result)  # Output: NO\n"
   ]
  },
  {
   "cell_type": "code",
   "execution_count": 7,
   "metadata": {},
   "outputs": [
    {
     "data": {
      "text/plain": [
       "'\\n3.Write a program, which would download the data from the provided link, and then read the data and convert\\nthat into properly structured data and return it in Excel format.\\nNote - Write comments wherever necessary explaining the code written.\\n\\nLink - https://raw.githubusercontent.com/Biuni/PokemonGO-Pokedex/master/pokedex.json\\nData Attributes - id: Identification Number - int num: Number of the\\n● Pokémon in the official Pokédex - int name: Pokémon name -\\n● string img: URL to an image of this Pokémon - string type:\\n● Pokémon type -string height: Pokémon height - float\\n● weight: Pokémon weight - float candy: type of candy used to evolve Pokémon or\\ngiven\\n● when transferred - string candy_count: the amount of candies required to evolve\\n- int\\n● egg: Number of kilometers to travel to hatch the egg - float spawn_chance:\\n● Percentage of spawn chance (NEW) - float avg_spawns: Number of this\\npokemon on 10.000 spawns (NEW) - int\\n● spawn_time: Spawns most active at the time on this field. Spawn times are the same for all\\ntime zones and are expressed in local time. (NEW) - “minutes: seconds” multipliers:\\nMultiplier of Combat Power (CP) for calculating the CP after evolution See below - list of int\\nweakness: Types of\\n● Pokémon this Pokémon is weak to - list of strings next_evolution: Number and Name of\\nsuccessive evolutions of Pokémon - list of dict prev_evolution: Number and Name of previous\\nevolutions of Pokémon - - list of dict\\n'"
      ]
     },
     "execution_count": 7,
     "metadata": {},
     "output_type": "execute_result"
    }
   ],
   "source": [
    "\"\"\"\n",
    "3.Write a program, which would download the data from the provided link, and then read the data and convert\n",
    "that into properly structured data and return it in Excel format.\n",
    "Note - Write comments wherever necessary explaining the code written.\n",
    "\n",
    "Link - https://raw.githubusercontent.com/Biuni/PokemonGO-Pokedex/master/pokedex.json\n",
    "Data Attributes - id: Identification Number - int num: Number of the\n",
    "● Pokémon in the official Pokédex - int name: Pokémon name -\n",
    "● string img: URL to an image of this Pokémon - string type:\n",
    "● Pokémon type -string height: Pokémon height - float\n",
    "● weight: Pokémon weight - float candy: type of candy used to evolve Pokémon or\n",
    "given\n",
    "● when transferred - string candy_count: the amount of candies required to evolve\n",
    "- int\n",
    "● egg: Number of kilometers to travel to hatch the egg - float spawn_chance:\n",
    "● Percentage of spawn chance (NEW) - float avg_spawns: Number of this\n",
    "pokemon on 10.000 spawns (NEW) - int\n",
    "● spawn_time: Spawns most active at the time on this field. Spawn times are the same for all\n",
    "time zones and are expressed in local time. (NEW) - “minutes: seconds” multipliers:\n",
    "Multiplier of Combat Power (CP) for calculating the CP after evolution See below - list of int\n",
    "weakness: Types of\n",
    "● Pokémon this Pokémon is weak to - list of strings next_evolution: Number and Name of\n",
    "successive evolutions of Pokémon - list of dict prev_evolution: Number and Name of previous\n",
    "evolutions of Pokémon - - list of dict\n",
    "\"\"\""
   ]
  },
  {
   "cell_type": "code",
   "execution_count": 10,
   "metadata": {},
   "outputs": [
    {
     "name": "stdout",
     "output_type": "stream",
     "text": [
      "Data has been downloaded, converted, and exported to pokedex.xlsx\n"
     ]
    }
   ],
   "source": [
    "import requests\n",
    "import pandas as pd\n",
    "\n",
    "def download_data(url):\n",
    "    response = requests.get(url)  # Send a GET request to the URL\n",
    "    data = response.json()  # Parse the response as JSON\n",
    "    return data\n",
    "\n",
    "def convert_to_dataframe(data):\n",
    "    records = []\n",
    "    for pokemon in data['pokemon']:\n",
    "        record = {\n",
    "            'ID': pokemon['id'],\n",
    "            'Number': pokemon['num'],\n",
    "            'Name': pokemon['name'],\n",
    "            'Image': pokemon['img'],\n",
    "            'Type': ', '.join(pokemon['type']),\n",
    "            'Height': pokemon['height'],\n",
    "            'Weight': pokemon['weight'],\n",
    "            'Candy': pokemon.get('candy', ''),\n",
    "            'Candy Count': pokemon.get('candy_count', ''),\n",
    "            'Egg': pokemon.get('egg', ''),\n",
    "            'Spawn Chance': pokemon.get('spawn_chance', ''),\n",
    "            'Average Spawns': pokemon.get('avg_spawns', ''),\n",
    "            'Spawn Time': pokemon.get('spawn_time', ''),\n",
    "            'Weaknesses': ', '.join(pokemon['weaknesses']),\n",
    "            'Next Evolution': ', '.join(evolution['name'] for evolution in pokemon.get('next_evolution', [])),\n",
    "            'Previous Evolution': ', '.join(evolution['name'] for evolution in pokemon.get('prev_evolution', []))\n",
    "        }\n",
    "        records.append(record)\n",
    "    \n",
    "    df = pd.DataFrame(records)  # Create a DataFrame from the records\n",
    "    return df\n",
    "\n",
    "def export_to_excel(df, filename):\n",
    "    df.to_excel(filename, index=False)  # Export the DataFrame to an Excel file\n",
    "\n",
    "# Provide the URL of the data\n",
    "url = \"https://raw.githubusercontent.com/Biuni/PokemonGO-Pokedex/master/pokedex.json\"\n",
    "\n",
    "# Download the data\n",
    "data = download_data(url)\n",
    "\n",
    "# Convert the data to a DataFrame\n",
    "df = convert_to_dataframe(data)\n",
    "\n",
    "# Export the DataFrame to an Excel file\n",
    "filename = \"pokedex.xlsx\"\n",
    "export_to_excel(df, filename)\n",
    "\n",
    "print(\"Data has been downloaded, converted, and exported to\", filename)\n"
   ]
  },
  {
   "cell_type": "code",
   "execution_count": 11,
   "metadata": {},
   "outputs": [],
   "source": [
    "import pandas as pd"
   ]
  },
  {
   "cell_type": "code",
   "execution_count": 13,
   "metadata": {},
   "outputs": [],
   "source": [
    "df=pd.read_excel(\"pokedex.xlsx\")"
   ]
  },
  {
   "cell_type": "code",
   "execution_count": 14,
   "metadata": {},
   "outputs": [
    {
     "data": {
      "text/html": [
       "<div>\n",
       "<style scoped>\n",
       "    .dataframe tbody tr th:only-of-type {\n",
       "        vertical-align: middle;\n",
       "    }\n",
       "\n",
       "    .dataframe tbody tr th {\n",
       "        vertical-align: top;\n",
       "    }\n",
       "\n",
       "    .dataframe thead th {\n",
       "        text-align: right;\n",
       "    }\n",
       "</style>\n",
       "<table border=\"1\" class=\"dataframe\">\n",
       "  <thead>\n",
       "    <tr style=\"text-align: right;\">\n",
       "      <th></th>\n",
       "      <th>ID</th>\n",
       "      <th>Number</th>\n",
       "      <th>Name</th>\n",
       "      <th>Image</th>\n",
       "      <th>Type</th>\n",
       "      <th>Height</th>\n",
       "      <th>Weight</th>\n",
       "      <th>Candy</th>\n",
       "      <th>Candy Count</th>\n",
       "      <th>Egg</th>\n",
       "      <th>Spawn Chance</th>\n",
       "      <th>Average Spawns</th>\n",
       "      <th>Spawn Time</th>\n",
       "      <th>Weaknesses</th>\n",
       "      <th>Next Evolution</th>\n",
       "      <th>Previous Evolution</th>\n",
       "    </tr>\n",
       "  </thead>\n",
       "  <tbody>\n",
       "    <tr>\n",
       "      <th>0</th>\n",
       "      <td>1</td>\n",
       "      <td>1</td>\n",
       "      <td>Bulbasaur</td>\n",
       "      <td>http://www.serebii.net/pokemongo/pokemon/001.png</td>\n",
       "      <td>Grass, Poison</td>\n",
       "      <td>0.71 m</td>\n",
       "      <td>6.9 kg</td>\n",
       "      <td>Bulbasaur Candy</td>\n",
       "      <td>25.0</td>\n",
       "      <td>2 km</td>\n",
       "      <td>0.690</td>\n",
       "      <td>69.0</td>\n",
       "      <td>20:00</td>\n",
       "      <td>Fire, Ice, Flying, Psychic</td>\n",
       "      <td>Ivysaur, Venusaur</td>\n",
       "      <td>NaN</td>\n",
       "    </tr>\n",
       "    <tr>\n",
       "      <th>1</th>\n",
       "      <td>2</td>\n",
       "      <td>2</td>\n",
       "      <td>Ivysaur</td>\n",
       "      <td>http://www.serebii.net/pokemongo/pokemon/002.png</td>\n",
       "      <td>Grass, Poison</td>\n",
       "      <td>0.99 m</td>\n",
       "      <td>13.0 kg</td>\n",
       "      <td>Bulbasaur Candy</td>\n",
       "      <td>100.0</td>\n",
       "      <td>Not in Eggs</td>\n",
       "      <td>0.042</td>\n",
       "      <td>4.2</td>\n",
       "      <td>07:00</td>\n",
       "      <td>Fire, Ice, Flying, Psychic</td>\n",
       "      <td>Venusaur</td>\n",
       "      <td>Bulbasaur</td>\n",
       "    </tr>\n",
       "    <tr>\n",
       "      <th>2</th>\n",
       "      <td>3</td>\n",
       "      <td>3</td>\n",
       "      <td>Venusaur</td>\n",
       "      <td>http://www.serebii.net/pokemongo/pokemon/003.png</td>\n",
       "      <td>Grass, Poison</td>\n",
       "      <td>2.01 m</td>\n",
       "      <td>100.0 kg</td>\n",
       "      <td>Bulbasaur Candy</td>\n",
       "      <td>NaN</td>\n",
       "      <td>Not in Eggs</td>\n",
       "      <td>0.017</td>\n",
       "      <td>1.7</td>\n",
       "      <td>11:30</td>\n",
       "      <td>Fire, Ice, Flying, Psychic</td>\n",
       "      <td>NaN</td>\n",
       "      <td>Bulbasaur, Ivysaur</td>\n",
       "    </tr>\n",
       "    <tr>\n",
       "      <th>3</th>\n",
       "      <td>4</td>\n",
       "      <td>4</td>\n",
       "      <td>Charmander</td>\n",
       "      <td>http://www.serebii.net/pokemongo/pokemon/004.png</td>\n",
       "      <td>Fire</td>\n",
       "      <td>0.61 m</td>\n",
       "      <td>8.5 kg</td>\n",
       "      <td>Charmander Candy</td>\n",
       "      <td>25.0</td>\n",
       "      <td>2 km</td>\n",
       "      <td>0.253</td>\n",
       "      <td>25.3</td>\n",
       "      <td>08:45</td>\n",
       "      <td>Water, Ground, Rock</td>\n",
       "      <td>Charmeleon, Charizard</td>\n",
       "      <td>NaN</td>\n",
       "    </tr>\n",
       "    <tr>\n",
       "      <th>4</th>\n",
       "      <td>5</td>\n",
       "      <td>5</td>\n",
       "      <td>Charmeleon</td>\n",
       "      <td>http://www.serebii.net/pokemongo/pokemon/005.png</td>\n",
       "      <td>Fire</td>\n",
       "      <td>1.09 m</td>\n",
       "      <td>19.0 kg</td>\n",
       "      <td>Charmander Candy</td>\n",
       "      <td>100.0</td>\n",
       "      <td>Not in Eggs</td>\n",
       "      <td>0.012</td>\n",
       "      <td>1.2</td>\n",
       "      <td>19:00</td>\n",
       "      <td>Water, Ground, Rock</td>\n",
       "      <td>Charizard</td>\n",
       "      <td>Charmander</td>\n",
       "    </tr>\n",
       "  </tbody>\n",
       "</table>\n",
       "</div>"
      ],
      "text/plain": [
       "   ID  Number        Name                                             Image   \n",
       "0   1       1   Bulbasaur  http://www.serebii.net/pokemongo/pokemon/001.png  \\\n",
       "1   2       2     Ivysaur  http://www.serebii.net/pokemongo/pokemon/002.png   \n",
       "2   3       3    Venusaur  http://www.serebii.net/pokemongo/pokemon/003.png   \n",
       "3   4       4  Charmander  http://www.serebii.net/pokemongo/pokemon/004.png   \n",
       "4   5       5  Charmeleon  http://www.serebii.net/pokemongo/pokemon/005.png   \n",
       "\n",
       "            Type  Height    Weight             Candy  Candy Count   \n",
       "0  Grass, Poison  0.71 m    6.9 kg   Bulbasaur Candy         25.0  \\\n",
       "1  Grass, Poison  0.99 m   13.0 kg   Bulbasaur Candy        100.0   \n",
       "2  Grass, Poison  2.01 m  100.0 kg   Bulbasaur Candy          NaN   \n",
       "3           Fire  0.61 m    8.5 kg  Charmander Candy         25.0   \n",
       "4           Fire  1.09 m   19.0 kg  Charmander Candy        100.0   \n",
       "\n",
       "           Egg  Spawn Chance  Average Spawns Spawn Time   \n",
       "0         2 km         0.690            69.0      20:00  \\\n",
       "1  Not in Eggs         0.042             4.2      07:00   \n",
       "2  Not in Eggs         0.017             1.7      11:30   \n",
       "3         2 km         0.253            25.3      08:45   \n",
       "4  Not in Eggs         0.012             1.2      19:00   \n",
       "\n",
       "                   Weaknesses         Next Evolution  Previous Evolution  \n",
       "0  Fire, Ice, Flying, Psychic      Ivysaur, Venusaur                 NaN  \n",
       "1  Fire, Ice, Flying, Psychic               Venusaur           Bulbasaur  \n",
       "2  Fire, Ice, Flying, Psychic                    NaN  Bulbasaur, Ivysaur  \n",
       "3         Water, Ground, Rock  Charmeleon, Charizard                 NaN  \n",
       "4         Water, Ground, Rock              Charizard          Charmander  "
      ]
     },
     "execution_count": 14,
     "metadata": {},
     "output_type": "execute_result"
    }
   ],
   "source": [
    "df.head()"
   ]
  },
  {
   "cell_type": "code",
   "execution_count": 15,
   "metadata": {},
   "outputs": [
    {
     "data": {
      "text/plain": [
       "'\\nWrite a program to download the data from the link given below and then read the data and convert the into\\nthe proper structure and return it as a CSV file.\\nLink - https://data.nasa.gov/resource/y77d-th95.json\\nNote - Write code comments wherever needed for code understanding.\\n\\nSample Data -\\n\\nExcepted Output Data Attributes\\n● Name of Earth Meteorite - string id - ID of Earth\\n● Meteorite - int nametype - string recclass - string\\n● mass - Mass of Earth Meteorite - float year - Year at which Earth\\n● Meteorite was hit - datetime format reclat - float recclong - float\\n● point coordinates - list of int\\n'"
      ]
     },
     "execution_count": 15,
     "metadata": {},
     "output_type": "execute_result"
    }
   ],
   "source": [
    "\"\"\"\n",
    "Write a program to download the data from the link given below and then read the data and convert the into\n",
    "the proper structure and return it as a CSV file.\n",
    "Link - https://data.nasa.gov/resource/y77d-th95.json\n",
    "Note - Write code comments wherever needed for code understanding.\n",
    "\n",
    "Sample Data -\n",
    "\n",
    "Excepted Output Data Attributes\n",
    "● Name of Earth Meteorite - string id - ID of Earth\n",
    "● Meteorite - int nametype - string recclass - string\n",
    "● mass - Mass of Earth Meteorite - float year - Year at which Earth\n",
    "● Meteorite was hit - datetime format reclat - float recclong - float\n",
    "● point coordinates - list of int\n",
    "\"\"\""
   ]
  },
  {
   "cell_type": "code",
   "execution_count": 19,
   "metadata": {},
   "outputs": [
    {
     "name": "stdout",
     "output_type": "stream",
     "text": [
      "Data has been converted and saved as nasa_data.csv\n"
     ]
    }
   ],
   "source": [
    "import requests\n",
    "import csv\n",
    "\n",
    "def download_data(url):\n",
    "    response = requests.get(url)  # Send a GET request to the URL\n",
    "    data = response.json()  # Parse the response as JSON\n",
    "    return data\n",
    "\n",
    "def convert_to_csv(data, filename):\n",
    "    # Extract all unique keys from the records\n",
    "    keys = set()\n",
    "    for record in data:\n",
    "        keys.update(record.keys())\n",
    "\n",
    "    # Open the CSV file in write mode\n",
    "    with open(filename, 'w', newline='') as file:\n",
    "        writer = csv.DictWriter(file, fieldnames=keys)\n",
    "        \n",
    "        # Write the column headers to the CSV file\n",
    "        writer.writeheader()\n",
    "        \n",
    "        # Write each record to the CSV file\n",
    "        for record in data:\n",
    "            writer.writerow(record)\n",
    "\n",
    "    print(\"Data has been converted and saved as\", filename)\n",
    "\n",
    "# Provide the URL of the data\n",
    "url = \"https://data.nasa.gov/resource/y77d-th95.json\"\n",
    "\n",
    "# Download the data\n",
    "data = download_data(url)\n",
    "\n",
    "# Provide the filename for the CSV file\n",
    "filename = \"nasa_data.csv\"\n",
    "\n",
    "# Convert the data to CSV and save it\n",
    "convert_to_csv(data, filename)\n"
   ]
  },
  {
   "cell_type": "code",
   "execution_count": 21,
   "metadata": {},
   "outputs": [],
   "source": [
    "df=pd.read_csv(\"nasa_data.csv\",encoding=\"latin-1\")"
   ]
  },
  {
   "cell_type": "code",
   "execution_count": 22,
   "metadata": {},
   "outputs": [
    {
     "data": {
      "text/html": [
       "<div>\n",
       "<style scoped>\n",
       "    .dataframe tbody tr th:only-of-type {\n",
       "        vertical-align: middle;\n",
       "    }\n",
       "\n",
       "    .dataframe tbody tr th {\n",
       "        vertical-align: top;\n",
       "    }\n",
       "\n",
       "    .dataframe thead th {\n",
       "        text-align: right;\n",
       "    }\n",
       "</style>\n",
       "<table border=\"1\" class=\"dataframe\">\n",
       "  <thead>\n",
       "    <tr style=\"text-align: right;\">\n",
       "      <th></th>\n",
       "      <th>nametype</th>\n",
       "      <th>reclat</th>\n",
       "      <th>name</th>\n",
       "      <th>fall</th>\n",
       "      <th>recclass</th>\n",
       "      <th>id</th>\n",
       "      <th>geolocation</th>\n",
       "      <th>year</th>\n",
       "      <th>:@computed_region_cbhk_fwbd</th>\n",
       "      <th>mass</th>\n",
       "      <th>:@computed_region_nnqa_25f4</th>\n",
       "      <th>reclong</th>\n",
       "    </tr>\n",
       "  </thead>\n",
       "  <tbody>\n",
       "    <tr>\n",
       "      <th>0</th>\n",
       "      <td>Valid</td>\n",
       "      <td>50.77500</td>\n",
       "      <td>Aachen</td>\n",
       "      <td>Fell</td>\n",
       "      <td>L5</td>\n",
       "      <td>1</td>\n",
       "      <td>{'type': 'Point', 'coordinates': [6.08333, 50....</td>\n",
       "      <td>1880-01-01T00:00:00.000</td>\n",
       "      <td>NaN</td>\n",
       "      <td>21.0</td>\n",
       "      <td>NaN</td>\n",
       "      <td>6.08333</td>\n",
       "    </tr>\n",
       "    <tr>\n",
       "      <th>1</th>\n",
       "      <td>Valid</td>\n",
       "      <td>56.18333</td>\n",
       "      <td>Aarhus</td>\n",
       "      <td>Fell</td>\n",
       "      <td>H6</td>\n",
       "      <td>2</td>\n",
       "      <td>{'type': 'Point', 'coordinates': [10.23333, 56...</td>\n",
       "      <td>1951-01-01T00:00:00.000</td>\n",
       "      <td>NaN</td>\n",
       "      <td>720.0</td>\n",
       "      <td>NaN</td>\n",
       "      <td>10.23333</td>\n",
       "    </tr>\n",
       "    <tr>\n",
       "      <th>2</th>\n",
       "      <td>Valid</td>\n",
       "      <td>54.21667</td>\n",
       "      <td>Abee</td>\n",
       "      <td>Fell</td>\n",
       "      <td>EH4</td>\n",
       "      <td>6</td>\n",
       "      <td>{'type': 'Point', 'coordinates': [-113, 54.216...</td>\n",
       "      <td>1952-01-01T00:00:00.000</td>\n",
       "      <td>NaN</td>\n",
       "      <td>107000.0</td>\n",
       "      <td>NaN</td>\n",
       "      <td>-113.00000</td>\n",
       "    </tr>\n",
       "    <tr>\n",
       "      <th>3</th>\n",
       "      <td>Valid</td>\n",
       "      <td>16.88333</td>\n",
       "      <td>Acapulco</td>\n",
       "      <td>Fell</td>\n",
       "      <td>Acapulcoite</td>\n",
       "      <td>10</td>\n",
       "      <td>{'type': 'Point', 'coordinates': [-99.9, 16.88...</td>\n",
       "      <td>1976-01-01T00:00:00.000</td>\n",
       "      <td>NaN</td>\n",
       "      <td>1914.0</td>\n",
       "      <td>NaN</td>\n",
       "      <td>-99.90000</td>\n",
       "    </tr>\n",
       "    <tr>\n",
       "      <th>4</th>\n",
       "      <td>Valid</td>\n",
       "      <td>-33.16667</td>\n",
       "      <td>Achiras</td>\n",
       "      <td>Fell</td>\n",
       "      <td>L6</td>\n",
       "      <td>370</td>\n",
       "      <td>{'type': 'Point', 'coordinates': [-64.95, -33....</td>\n",
       "      <td>1902-01-01T00:00:00.000</td>\n",
       "      <td>NaN</td>\n",
       "      <td>780.0</td>\n",
       "      <td>NaN</td>\n",
       "      <td>-64.95000</td>\n",
       "    </tr>\n",
       "  </tbody>\n",
       "</table>\n",
       "</div>"
      ],
      "text/plain": [
       "  nametype    reclat      name  fall     recclass   id   \n",
       "0    Valid  50.77500    Aachen  Fell           L5    1  \\\n",
       "1    Valid  56.18333    Aarhus  Fell           H6    2   \n",
       "2    Valid  54.21667      Abee  Fell          EH4    6   \n",
       "3    Valid  16.88333  Acapulco  Fell  Acapulcoite   10   \n",
       "4    Valid -33.16667   Achiras  Fell           L6  370   \n",
       "\n",
       "                                         geolocation                     year   \n",
       "0  {'type': 'Point', 'coordinates': [6.08333, 50....  1880-01-01T00:00:00.000  \\\n",
       "1  {'type': 'Point', 'coordinates': [10.23333, 56...  1951-01-01T00:00:00.000   \n",
       "2  {'type': 'Point', 'coordinates': [-113, 54.216...  1952-01-01T00:00:00.000   \n",
       "3  {'type': 'Point', 'coordinates': [-99.9, 16.88...  1976-01-01T00:00:00.000   \n",
       "4  {'type': 'Point', 'coordinates': [-64.95, -33....  1902-01-01T00:00:00.000   \n",
       "\n",
       "   :@computed_region_cbhk_fwbd      mass  :@computed_region_nnqa_25f4   \n",
       "0                          NaN      21.0                          NaN  \\\n",
       "1                          NaN     720.0                          NaN   \n",
       "2                          NaN  107000.0                          NaN   \n",
       "3                          NaN    1914.0                          NaN   \n",
       "4                          NaN     780.0                          NaN   \n",
       "\n",
       "     reclong  \n",
       "0    6.08333  \n",
       "1   10.23333  \n",
       "2 -113.00000  \n",
       "3  -99.90000  \n",
       "4  -64.95000  "
      ]
     },
     "execution_count": 22,
     "metadata": {},
     "output_type": "execute_result"
    }
   ],
   "source": [
    "df.head()"
   ]
  },
  {
   "cell_type": "code",
   "execution_count": 23,
   "metadata": {},
   "outputs": [
    {
     "data": {
      "text/plain": [
       "'\\nWrite a program to download the data from the given API link and then extract the following data with\\nproper formatting\\n\\nLink - http://api.tvmaze.com/singlesearch/shows?q=westworld&embed=episodes\\nNote - Write proper code comments wherever needed for the code understanding\\n\\nSample Data -\\n\\nExcepted Output Data Attributes -\\n● id - int url - string\\n● name - string season\\n● - int number - int\\n● type - string airdate -\\n● date format airtime -\\n● 12-hour time format\\n● runtime - float\\n● average rating - float\\n● summary - string\\n● without html tags\\n● medium image link - string\\n● Original image link - string\\n'"
      ]
     },
     "execution_count": 23,
     "metadata": {},
     "output_type": "execute_result"
    }
   ],
   "source": [
    "\"\"\"\n",
    "Write a program to download the data from the given API link and then extract the following data with\n",
    "proper formatting\n",
    "\n",
    "Link - http://api.tvmaze.com/singlesearch/shows?q=westworld&embed=episodes\n",
    "Note - Write proper code comments wherever needed for the code understanding\n",
    "\n",
    "Sample Data -\n",
    "\n",
    "Excepted Output Data Attributes -\n",
    "● id - int url - string\n",
    "● name - string season\n",
    "● - int number - int\n",
    "● type - string airdate -\n",
    "● date format airtime -\n",
    "● 12-hour time format\n",
    "● runtime - float\n",
    "● average rating - float\n",
    "● summary - string\n",
    "● without html tags\n",
    "● medium image link - string\n",
    "● Original image link - string\n",
    "\"\"\""
   ]
  },
  {
   "cell_type": "code",
   "execution_count": 25,
   "metadata": {},
   "outputs": [
    {
     "name": "stdout",
     "output_type": "stream",
     "text": [
      "Data has been saved as westworld_episodes.csv\n"
     ]
    }
   ],
   "source": [
    "import csv\n",
    "\n",
    "def save_as_csv(filename, data):\n",
    "    with open(filename, 'w', newline='', encoding='utf-8') as file:\n",
    "        writer = csv.DictWriter(file, fieldnames=data[0].keys())\n",
    "        writer.writeheader()\n",
    "        writer.writerows(data)\n",
    "\n",
    "    print(\"Data has been saved as\", filename)\n",
    "\n",
    "# Provide the API URL\n",
    "url = \"http://api.tvmaze.com/singlesearch/shows?q=westworld&embed=episodes\"\n",
    "\n",
    "# Download the data\n",
    "data = download_data(url)\n",
    "\n",
    "# Extract the desired attributes\n",
    "show_id, show_url, show_name, extracted_data = extract_attributes(data)\n",
    "\n",
    "# Convert the extracted data to CSV format and save it\n",
    "csv_filename = \"westworld_episodes.csv\"\n",
    "save_as_csv(csv_filename, extracted_data)\n"
   ]
  },
  {
   "cell_type": "code",
   "execution_count": 27,
   "metadata": {},
   "outputs": [],
   "source": [
    "df=pd.read_csv(\"westworld_episodes.csv\")"
   ]
  },
  {
   "cell_type": "code",
   "execution_count": 28,
   "metadata": {},
   "outputs": [
    {
     "data": {
      "text/html": [
       "<div>\n",
       "<style scoped>\n",
       "    .dataframe tbody tr th:only-of-type {\n",
       "        vertical-align: middle;\n",
       "    }\n",
       "\n",
       "    .dataframe tbody tr th {\n",
       "        vertical-align: top;\n",
       "    }\n",
       "\n",
       "    .dataframe thead th {\n",
       "        text-align: right;\n",
       "    }\n",
       "</style>\n",
       "<table border=\"1\" class=\"dataframe\">\n",
       "  <thead>\n",
       "    <tr style=\"text-align: right;\">\n",
       "      <th></th>\n",
       "      <th>id</th>\n",
       "      <th>url</th>\n",
       "      <th>name</th>\n",
       "      <th>season</th>\n",
       "      <th>number</th>\n",
       "      <th>type</th>\n",
       "      <th>airdate</th>\n",
       "      <th>airtime</th>\n",
       "      <th>runtime</th>\n",
       "      <th>average_rating</th>\n",
       "      <th>summary</th>\n",
       "      <th>medium_image</th>\n",
       "      <th>original_image</th>\n",
       "    </tr>\n",
       "  </thead>\n",
       "  <tbody>\n",
       "    <tr>\n",
       "      <th>0</th>\n",
       "      <td>869671</td>\n",
       "      <td>https://www.tvmaze.com/episodes/869671/westwor...</td>\n",
       "      <td>The Original</td>\n",
       "      <td>1</td>\n",
       "      <td>1</td>\n",
       "      <td>regular</td>\n",
       "      <td>2016-10-02</td>\n",
       "      <td>21:00</td>\n",
       "      <td>68</td>\n",
       "      <td>8.0</td>\n",
       "      <td>A woman named Dolores is a free spirit in the ...</td>\n",
       "      <td>https://static.tvmaze.com/uploads/images/mediu...</td>\n",
       "      <td>https://static.tvmaze.com/uploads/images/origi...</td>\n",
       "    </tr>\n",
       "    <tr>\n",
       "      <th>1</th>\n",
       "      <td>911201</td>\n",
       "      <td>https://www.tvmaze.com/episodes/911201/westwor...</td>\n",
       "      <td>Chestnut</td>\n",
       "      <td>1</td>\n",
       "      <td>2</td>\n",
       "      <td>regular</td>\n",
       "      <td>2016-10-09</td>\n",
       "      <td>21:00</td>\n",
       "      <td>60</td>\n",
       "      <td>7.7</td>\n",
       "      <td>Bernard suspects that someone is sabotaging th...</td>\n",
       "      <td>https://static.tvmaze.com/uploads/images/mediu...</td>\n",
       "      <td>https://static.tvmaze.com/uploads/images/origi...</td>\n",
       "    </tr>\n",
       "    <tr>\n",
       "      <th>2</th>\n",
       "      <td>911204</td>\n",
       "      <td>https://www.tvmaze.com/episodes/911204/westwor...</td>\n",
       "      <td>The Stray</td>\n",
       "      <td>1</td>\n",
       "      <td>3</td>\n",
       "      <td>regular</td>\n",
       "      <td>2016-10-16</td>\n",
       "      <td>21:00</td>\n",
       "      <td>60</td>\n",
       "      <td>7.6</td>\n",
       "      <td>Bernard continues to investigate Dolores' supp...</td>\n",
       "      <td>https://static.tvmaze.com/uploads/images/mediu...</td>\n",
       "      <td>https://static.tvmaze.com/uploads/images/origi...</td>\n",
       "    </tr>\n",
       "    <tr>\n",
       "      <th>3</th>\n",
       "      <td>911205</td>\n",
       "      <td>https://www.tvmaze.com/episodes/911205/westwor...</td>\n",
       "      <td>Dissonance Theory</td>\n",
       "      <td>1</td>\n",
       "      <td>4</td>\n",
       "      <td>regular</td>\n",
       "      <td>2016-10-23</td>\n",
       "      <td>21:00</td>\n",
       "      <td>60</td>\n",
       "      <td>7.9</td>\n",
       "      <td>While Dolores joins William and Logan on their...</td>\n",
       "      <td>https://static.tvmaze.com/uploads/images/mediu...</td>\n",
       "      <td>https://static.tvmaze.com/uploads/images/origi...</td>\n",
       "    </tr>\n",
       "    <tr>\n",
       "      <th>4</th>\n",
       "      <td>927174</td>\n",
       "      <td>https://www.tvmaze.com/episodes/927174/westwor...</td>\n",
       "      <td>Contrapasso</td>\n",
       "      <td>1</td>\n",
       "      <td>5</td>\n",
       "      <td>regular</td>\n",
       "      <td>2016-10-30</td>\n",
       "      <td>21:00</td>\n",
       "      <td>60</td>\n",
       "      <td>8.0</td>\n",
       "      <td>Dolores takes the first step on her path of di...</td>\n",
       "      <td>https://static.tvmaze.com/uploads/images/mediu...</td>\n",
       "      <td>https://static.tvmaze.com/uploads/images/origi...</td>\n",
       "    </tr>\n",
       "  </tbody>\n",
       "</table>\n",
       "</div>"
      ],
      "text/plain": [
       "       id                                                url   \n",
       "0  869671  https://www.tvmaze.com/episodes/869671/westwor...  \\\n",
       "1  911201  https://www.tvmaze.com/episodes/911201/westwor...   \n",
       "2  911204  https://www.tvmaze.com/episodes/911204/westwor...   \n",
       "3  911205  https://www.tvmaze.com/episodes/911205/westwor...   \n",
       "4  927174  https://www.tvmaze.com/episodes/927174/westwor...   \n",
       "\n",
       "                name  season  number     type     airdate airtime  runtime   \n",
       "0       The Original       1       1  regular  2016-10-02   21:00       68  \\\n",
       "1           Chestnut       1       2  regular  2016-10-09   21:00       60   \n",
       "2          The Stray       1       3  regular  2016-10-16   21:00       60   \n",
       "3  Dissonance Theory       1       4  regular  2016-10-23   21:00       60   \n",
       "4        Contrapasso       1       5  regular  2016-10-30   21:00       60   \n",
       "\n",
       "   average_rating                                            summary   \n",
       "0             8.0  A woman named Dolores is a free spirit in the ...  \\\n",
       "1             7.7  Bernard suspects that someone is sabotaging th...   \n",
       "2             7.6  Bernard continues to investigate Dolores' supp...   \n",
       "3             7.9  While Dolores joins William and Logan on their...   \n",
       "4             8.0  Dolores takes the first step on her path of di...   \n",
       "\n",
       "                                        medium_image   \n",
       "0  https://static.tvmaze.com/uploads/images/mediu...  \\\n",
       "1  https://static.tvmaze.com/uploads/images/mediu...   \n",
       "2  https://static.tvmaze.com/uploads/images/mediu...   \n",
       "3  https://static.tvmaze.com/uploads/images/mediu...   \n",
       "4  https://static.tvmaze.com/uploads/images/mediu...   \n",
       "\n",
       "                                      original_image  \n",
       "0  https://static.tvmaze.com/uploads/images/origi...  \n",
       "1  https://static.tvmaze.com/uploads/images/origi...  \n",
       "2  https://static.tvmaze.com/uploads/images/origi...  \n",
       "3  https://static.tvmaze.com/uploads/images/origi...  \n",
       "4  https://static.tvmaze.com/uploads/images/origi...  "
      ]
     },
     "execution_count": 28,
     "metadata": {},
     "output_type": "execute_result"
    }
   ],
   "source": [
    "df.head()"
   ]
  },
  {
   "cell_type": "code",
   "execution_count": 29,
   "metadata": {},
   "outputs": [
    {
     "data": {
      "text/plain": [
       "'\\nUsing the data from Question 3, write code to analyze the data and answer the following questions Note 1.\\nDraw plots to demonstrate the analysis for the following questions for better visualizations.\\n2. Write code comments wherever required for code understanding\\n\\nInsights to be drawn -\\n● Get all Pokemons whose spawn rate is less than 5%\\n● Get all Pokemons that have less than 4 weaknesses\\n● Get all Pokemons that have no multipliers at all\\n● Get all Pokemons that do not have more than 2 evolutions\\n● Get all Pokemons whose spawn time is less than 300 seconds.\\nNote - spawn time format is \"05:32”, so assume “minute: second” format and perform the analysis.\\n● Get all Pokemon who have more than two types of capabilities\\n'"
      ]
     },
     "execution_count": 29,
     "metadata": {},
     "output_type": "execute_result"
    }
   ],
   "source": [
    "\"\"\"\n",
    "Using the data from Question 3, write code to analyze the data and answer the following questions Note 1.\n",
    "Draw plots to demonstrate the analysis for the following questions for better visualizations.\n",
    "2. Write code comments wherever required for code understanding\n",
    "\n",
    "Insights to be drawn -\n",
    "● Get all Pokemons whose spawn rate is less than 5%\n",
    "● Get all Pokemons that have less than 4 weaknesses\n",
    "● Get all Pokemons that have no multipliers at all\n",
    "● Get all Pokemons that do not have more than 2 evolutions\n",
    "● Get all Pokemons whose spawn time is less than 300 seconds.\n",
    "Note - spawn time format is \"05:32”, so assume “minute: second” format and perform the analysis.\n",
    "● Get all Pokemon who have more than two types of capabilities\n",
    "\"\"\""
   ]
  },
  {
   "cell_type": "code",
   "execution_count": 53,
   "metadata": {},
   "outputs": [
    {
     "data": {
      "image/png": "[encoded data removed]",
      "text/plain": [
       "<Figure size 600x600 with 1 Axes>"
      ]
     },
     "metadata": {},
     "output_type": "display_data"
    },
    {
     "ename": "TypeError",
     "evalue": "object of type 'float' has no len()",
     "output_type": "error",
     "traceback": [
      "\u001b[0;31m---------------------------------------------------------------------------\u001b[0m",
      "\u001b[0;31mTypeError\u001b[0m                                 Traceback (most recent call last)",
      "Cell \u001b[0;32mIn[53], line 21\u001b[0m\n\u001b[1;32m     18\u001b[0m plt\u001b[38;5;241m.\u001b[39mshow()\n\u001b[1;32m     20\u001b[0m evolution_threshold \u001b[38;5;241m=\u001b[39m \u001b[38;5;241m2\u001b[39m\n\u001b[0;32m---> 21\u001b[0m pokemons_few_evolutions \u001b[38;5;241m=\u001b[39m pokemons_data[\u001b[43mpokemons_data\u001b[49m\u001b[43m[\u001b[49m\u001b[38;5;124;43m\"\u001b[39;49m\u001b[38;5;124;43mNext Evolution\u001b[39;49m\u001b[38;5;124;43m\"\u001b[39;49m\u001b[43m]\u001b[49m\u001b[38;5;241;43m.\u001b[39;49m\u001b[43mapply\u001b[49m\u001b[43m(\u001b[49m\u001b[38;5;28;43;01mlambda\u001b[39;49;00m\u001b[43m \u001b[49m\u001b[43mx\u001b[49m\u001b[43m:\u001b[49m\u001b[43m \u001b[49m\u001b[38;5;28;43mlen\u001b[39;49m\u001b[43m(\u001b[49m\u001b[43mx\u001b[49m\u001b[43m)\u001b[49m\u001b[43m \u001b[49m\u001b[38;5;241;43m<\u001b[39;49m\u001b[38;5;241;43m=\u001b[39;49m\u001b[43m \u001b[49m\u001b[43mevolution_threshold\u001b[49m\u001b[43m)\u001b[49m]\n",
      "File \u001b[0;32m~/.local/lib/python3.8/site-packages/pandas/core/series.py:4626\u001b[0m, in \u001b[0;36mSeries.apply\u001b[0;34m(self, func, convert_dtype, args, **kwargs)\u001b[0m\n\u001b[1;32m   4516\u001b[0m \u001b[39mdef\u001b[39;00m \u001b[39mapply\u001b[39m(\n\u001b[1;32m   4517\u001b[0m     \u001b[39mself\u001b[39m,\n\u001b[1;32m   4518\u001b[0m     func: AggFuncType,\n\u001b[0;32m   (...)\u001b[0m\n\u001b[1;32m   4521\u001b[0m     \u001b[39m*\u001b[39m\u001b[39m*\u001b[39mkwargs,\n\u001b[1;32m   4522\u001b[0m ) \u001b[39m-\u001b[39m\u001b[39m>\u001b[39m DataFrame \u001b[39m|\u001b[39m Series:\n\u001b[1;32m   4523\u001b[0m \u001b[39m    \u001b[39m\u001b[39m\"\"\"\u001b[39;00m\n\u001b[1;32m   4524\u001b[0m \u001b[39m    Invoke function on values of Series.\u001b[39;00m\n\u001b[1;32m   4525\u001b[0m \n\u001b[0;32m   (...)\u001b[0m\n\u001b[1;32m   4624\u001b[0m \u001b[39m    dtype: float64\u001b[39;00m\n\u001b[1;32m   4625\u001b[0m \u001b[39m    \"\"\"\u001b[39;00m\n\u001b[0;32m-> 4626\u001b[0m     \u001b[39mreturn\u001b[39;00m SeriesApply(\u001b[39mself\u001b[39;49m, func, convert_dtype, args, kwargs)\u001b[39m.\u001b[39;49mapply()\n",
      "File \u001b[0;32m~/.local/lib/python3.8/site-packages/pandas/core/apply.py:1025\u001b[0m, in \u001b[0;36mSeriesApply.apply\u001b[0;34m(self)\u001b[0m\n\u001b[1;32m   1022\u001b[0m     \u001b[39mreturn\u001b[39;00m \u001b[39mself\u001b[39m\u001b[39m.\u001b[39mapply_str()\n\u001b[1;32m   1024\u001b[0m \u001b[39m# self.f is Callable\u001b[39;00m\n\u001b[0;32m-> 1025\u001b[0m \u001b[39mreturn\u001b[39;00m \u001b[39mself\u001b[39;49m\u001b[39m.\u001b[39;49mapply_standard()\n",
      "File \u001b[0;32m~/.local/lib/python3.8/site-packages/pandas/core/apply.py:1076\u001b[0m, in \u001b[0;36mSeriesApply.apply_standard\u001b[0;34m(self)\u001b[0m\n\u001b[1;32m   1074\u001b[0m     \u001b[39melse\u001b[39;00m:\n\u001b[1;32m   1075\u001b[0m         values \u001b[39m=\u001b[39m obj\u001b[39m.\u001b[39mastype(\u001b[39mobject\u001b[39m)\u001b[39m.\u001b[39m_values\n\u001b[0;32m-> 1076\u001b[0m         mapped \u001b[39m=\u001b[39m lib\u001b[39m.\u001b[39;49mmap_infer(\n\u001b[1;32m   1077\u001b[0m             values,\n\u001b[1;32m   1078\u001b[0m             f,\n\u001b[1;32m   1079\u001b[0m             convert\u001b[39m=\u001b[39;49m\u001b[39mself\u001b[39;49m\u001b[39m.\u001b[39;49mconvert_dtype,\n\u001b[1;32m   1080\u001b[0m         )\n\u001b[1;32m   1082\u001b[0m \u001b[39mif\u001b[39;00m \u001b[39mlen\u001b[39m(mapped) \u001b[39mand\u001b[39;00m \u001b[39misinstance\u001b[39m(mapped[\u001b[39m0\u001b[39m], ABCSeries):\n\u001b[1;32m   1083\u001b[0m     \u001b[39m# GH#43986 Need to do list(mapped) in order to get treated as nested\u001b[39;00m\n\u001b[1;32m   1084\u001b[0m     \u001b[39m#  See also GH#25959 regarding EA support\u001b[39;00m\n\u001b[1;32m   1085\u001b[0m     \u001b[39mreturn\u001b[39;00m obj\u001b[39m.\u001b[39m_constructor_expanddim(\u001b[39mlist\u001b[39m(mapped), index\u001b[39m=\u001b[39mobj\u001b[39m.\u001b[39mindex)\n",
      "File \u001b[0;32m~/.local/lib/python3.8/site-packages/pandas/_libs/lib.pyx:2834\u001b[0m, in \u001b[0;36mpandas._libs.lib.map_infer\u001b[0;34m()\u001b[0m\n",
      "Cell \u001b[0;32mIn[53], line 21\u001b[0m, in \u001b[0;36m<lambda>\u001b[0;34m(x)\u001b[0m\n\u001b[1;32m     18\u001b[0m plt\u001b[38;5;241m.\u001b[39mshow()\n\u001b[1;32m     20\u001b[0m evolution_threshold \u001b[38;5;241m=\u001b[39m \u001b[38;5;241m2\u001b[39m\n\u001b[0;32m---> 21\u001b[0m pokemons_few_evolutions \u001b[38;5;241m=\u001b[39m pokemons_data[pokemons_data[\u001b[38;5;124m\"\u001b[39m\u001b[38;5;124mNext Evolution\u001b[39m\u001b[38;5;124m\"\u001b[39m]\u001b[38;5;241m.\u001b[39mapply(\u001b[38;5;28;01mlambda\u001b[39;00m x: \u001b[38;5;28;43mlen\u001b[39;49m\u001b[43m(\u001b[49m\u001b[43mx\u001b[49m\u001b[43m)\u001b[49m \u001b[38;5;241m<\u001b[39m\u001b[38;5;241m=\u001b[39m evolution_threshold)]\n",
      "\u001b[0;31mTypeError\u001b[0m: object of type 'float' has no len()"
     ]
    }
   ],
   "source": [
    "import pandas as pd\n",
    "import matplotlib.pyplot as plt\n",
    "\n",
    "# Read the Pokémon data from Excel file\n",
    "pokemons_data = pd.read_excel(\"pokedex.xlsx\")\n",
    "\n",
    "# Filter Pokémon whose spawn rate is less than 5%\n",
    "spawn_rate_threshold = 5.0\n",
    "pokemons_low_spawn_rate = pokemons_data[pokemons_data['Spawn Chance'] < spawn_rate_threshold]\n",
    "\n",
    "# Plotting\n",
    "# Number of Pokémon with spawn rate less than 5%\n",
    "labels = ['Spawn Rate < 5%', 'Spawn Rate >= 5%']\n",
    "sizes = [len(pokemons_low_spawn_rate), len(pokemons_data) - len(pokemons_low_spawn_rate)]\n",
    "plt.figure(figsize=(6, 6))\n",
    "plt.pie(sizes, labels=labels, autopct='%1.1f%%')\n",
    "plt.title('Pokémon Spawn Rate Analysis')\n",
    "plt.show()\n",
    "\n",
    "evolution_threshold = 2\n",
    "pokemons_few_evolutions = pokemons_data[pokemons_data[\"Next Evolution\"].apply(lambda x: len(x) <= evolution_threshold)]\n"
   ]
  },
  {
   "cell_type": "code",
   "execution_count": 36,
   "metadata": {},
   "outputs": [],
   "source": [
    "df=pd.read_excel(\"pokedex.xlsx\")"
   ]
  },
  {
   "cell_type": "code",
   "execution_count": 37,
   "metadata": {},
   "outputs": [
    {
     "name": "stdout",
     "output_type": "stream",
     "text": [
      "<class 'pandas.core.frame.DataFrame'>\n",
      "RangeIndex: 151 entries, 0 to 150\n",
      "Data columns (total 16 columns):\n",
      " #   Column              Non-Null Count  Dtype  \n",
      "---  ------              --------------  -----  \n",
      " 0   ID                  151 non-null    int64  \n",
      " 1   Number              151 non-null    int64  \n",
      " 2   Name                151 non-null    object \n",
      " 3   Image               151 non-null    object \n",
      " 4   Type                151 non-null    object \n",
      " 5   Height              151 non-null    object \n",
      " 6   Weight              151 non-null    object \n",
      " 7   Candy               124 non-null    object \n",
      " 8   Candy Count         70 non-null     float64\n",
      " 9   Egg                 151 non-null    object \n",
      " 10  Spawn Chance        151 non-null    float64\n",
      " 11  Average Spawns      151 non-null    float64\n",
      " 12  Spawn Time          145 non-null    object \n",
      " 13  Weaknesses          151 non-null    object \n",
      " 14  Next Evolution      70 non-null     object \n",
      " 15  Previous Evolution  72 non-null     object \n",
      "dtypes: float64(3), int64(2), object(11)\n",
      "memory usage: 19.0+ KB\n"
     ]
    }
   ],
   "source": [
    "df.info()"
   ]
  },
  {
   "cell_type": "code",
   "execution_count": 45,
   "metadata": {},
   "outputs": [],
   "source": [
    "import pandas as pd\n",
    "\n",
    "# Read the Pokémon data from the Excel file\n",
    "pokemons_data = pd.read_excel(\"pokedex.xlsx\")\n",
    "\n",
    "# Get all Pokémon that have less than 4 weaknesses\n",
    "weakness_threshold = 4\n",
    "pokemons_low_weakness = pokemons_data[pokemons_data[\"Weaknesses\"].apply(lambda x: len(x)) < weakness_threshold]\n"
   ]
  },
  {
   "cell_type": "code",
   "execution_count": 47,
   "metadata": {},
   "outputs": [
    {
     "data": {
      "text/html": [
       "<div>\n",
       "<style scoped>\n",
       "    .dataframe tbody tr th:only-of-type {\n",
       "        vertical-align: middle;\n",
       "    }\n",
       "\n",
       "    .dataframe tbody tr th {\n",
       "        vertical-align: top;\n",
       "    }\n",
       "\n",
       "    .dataframe thead th {\n",
       "        text-align: right;\n",
       "    }\n",
       "</style>\n",
       "<table border=\"1\" class=\"dataframe\">\n",
       "  <thead>\n",
       "    <tr style=\"text-align: right;\">\n",
       "      <th></th>\n",
       "      <th>ID</th>\n",
       "      <th>Number</th>\n",
       "      <th>Name</th>\n",
       "      <th>Image</th>\n",
       "      <th>Type</th>\n",
       "      <th>Height</th>\n",
       "      <th>Weight</th>\n",
       "      <th>Candy</th>\n",
       "      <th>Candy Count</th>\n",
       "      <th>Egg</th>\n",
       "      <th>Spawn Chance</th>\n",
       "      <th>Average Spawns</th>\n",
       "      <th>Spawn Time</th>\n",
       "      <th>Weaknesses</th>\n",
       "      <th>Next Evolution</th>\n",
       "      <th>Previous Evolution</th>\n",
       "    </tr>\n",
       "  </thead>\n",
       "  <tbody>\n",
       "  </tbody>\n",
       "</table>\n",
       "</div>"
      ],
      "text/plain": [
       "Empty DataFrame\n",
       "Columns: [ID, Number, Name, Image, Type, Height, Weight, Candy, Candy Count, Egg, Spawn Chance, Average Spawns, Spawn Time, Weaknesses, Next Evolution, Previous Evolution]\n",
       "Index: []"
      ]
     },
     "execution_count": 47,
     "metadata": {},
     "output_type": "execute_result"
    }
   ],
   "source": [
    "pokemons_low_weakness"
   ]
  },
  {
   "cell_type": "code",
   "execution_count": 49,
   "metadata": {},
   "outputs": [
    {
     "ename": "NameError",
     "evalue": "name 'pokemon_data' is not defined",
     "output_type": "error",
     "traceback": [
      "\u001b[0;31m---------------------------------------------------------------------------\u001b[0m",
      "\u001b[0;31mNameError\u001b[0m                                 Traceback (most recent call last)",
      "Cell \u001b[0;32mIn[49], line 3\u001b[0m\n\u001b[1;32m      1\u001b[0m \u001b[38;5;66;03m# Get all Pokémon that have no multipliers at all\u001b[39;00m\n\u001b[1;32m      2\u001b[0m pokemons_data\u001b[38;5;241m=\u001b[39mpd\u001b[38;5;241m.\u001b[39mread_excel(\u001b[38;5;124m\"\u001b[39m\u001b[38;5;124mpokedex.xlsx\u001b[39m\u001b[38;5;124m\"\u001b[39m)\n\u001b[0;32m----> 3\u001b[0m pokemons_no_multipliers \u001b[38;5;241m=\u001b[39m \u001b[43mpokemon_data\u001b[49m[pokemon_data[\u001b[38;5;124m\"\u001b[39m\u001b[38;5;124mmultipliers\u001b[39m\u001b[38;5;124m\"\u001b[39m]\u001b[38;5;241m.\u001b[39mapply(\u001b[38;5;28;01mlambda\u001b[39;00m x: \u001b[38;5;28mlen\u001b[39m(x)) \u001b[38;5;241m==\u001b[39m \u001b[38;5;241m0\u001b[39m] \n\u001b[1;32m      4\u001b[0m \u001b[38;5;66;03m# no mutliper\u001b[39;00m\n",
      "\u001b[0;31mNameError\u001b[0m: name 'pokemon_data' is not defined"
     ]
    }
   ],
   "source": [
    "# Get all Pokémon that have no multipliers at all\n",
    "pokemons_data=pd.read_excel(\"pokedex.xlsx\")\n",
    "pokemons_no_multipliers = pokemon_data[pokemon_data[\"\"].apply(lambda x: len(x)) == 0] \n",
    "# no mutliper\n"
   ]
  },
  {
   "cell_type": "code",
   "execution_count": 56,
   "metadata": {},
   "outputs": [],
   "source": [
    "import pandas as pd\n",
    "\n",
    "# Read the Pokémon data from the Excel file\n",
    "pokemons_data = pd.read_excel(\"pokedex.xlsx\")\n",
    "\n",
    "# Get all Pokémon that do not have more than 2 evolutions\n",
    "evolution_threshold = 2\n",
    "pokemons_few_evolutions = pokemons_data[pokemons_data[\"Next Evolution\"].apply(lambda x: len(x) if isinstance(x, list) else 0) <= evolution_threshold]\n"
   ]
  },
  {
   "cell_type": "code",
   "execution_count": 61,
   "metadata": {},
   "outputs": [
    {
     "ename": "KeyError",
     "evalue": "\"None of [Index([1200,  420,  690,  525, 1140,  814,  265,  422,    6,  995,\\n       ...\\n       1420, 1420, True, True, True,  401,  717, 1418, True, True],\\n      dtype='object', length=151)] are in the [columns]\"",
     "output_type": "error",
     "traceback": [
      "\u001b[0;31m---------------------------------------------------------------------------\u001b[0m",
      "\u001b[0;31mKeyError\u001b[0m                                  Traceback (most recent call last)",
      "Cell \u001b[0;32mIn[61], line 10\u001b[0m\n\u001b[1;32m      7\u001b[0m spawn_time_threshold \u001b[38;5;241m=\u001b[39m \u001b[38;5;241m300\u001b[39m\n\u001b[1;32m      9\u001b[0m \u001b[38;5;66;03m# Convert spawn time to seconds and filter Pokémon\u001b[39;00m\n\u001b[0;32m---> 10\u001b[0m pokemons_low_spawn_time \u001b[38;5;241m=\u001b[39m \u001b[43mpokemons_data\u001b[49m\u001b[43m[\u001b[49m\u001b[43mpokemons_data\u001b[49m\u001b[43m[\u001b[49m\u001b[38;5;124;43m\"\u001b[39;49m\u001b[38;5;124;43mSpawn Time\u001b[39;49m\u001b[38;5;124;43m\"\u001b[39;49m\u001b[43m]\u001b[49m\u001b[38;5;241;43m.\u001b[39;49m\u001b[43mapply\u001b[49m\u001b[43m(\u001b[49m\u001b[38;5;28;43;01mlambda\u001b[39;49;00m\u001b[43m \u001b[49m\u001b[43mx\u001b[49m\u001b[43m:\u001b[49m\u001b[43m \u001b[49m\u001b[38;5;28;43mint\u001b[39;49m\u001b[43m(\u001b[49m\u001b[38;5;28;43mstr\u001b[39;49m\u001b[43m(\u001b[49m\u001b[43mx\u001b[49m\u001b[43m)\u001b[49m\u001b[38;5;241;43m.\u001b[39;49m\u001b[43msplit\u001b[49m\u001b[43m(\u001b[49m\u001b[38;5;124;43m\"\u001b[39;49m\u001b[38;5;124;43m:\u001b[39;49m\u001b[38;5;124;43m\"\u001b[39;49m\u001b[43m)\u001b[49m\u001b[43m[\u001b[49m\u001b[38;5;241;43m0\u001b[39;49m\u001b[43m]\u001b[49m\u001b[43m)\u001b[49m\u001b[43m \u001b[49m\u001b[38;5;241;43m*\u001b[39;49m\u001b[43m \u001b[49m\u001b[38;5;241;43m60\u001b[39;49m\u001b[43m \u001b[49m\u001b[38;5;241;43m+\u001b[39;49m\u001b[43m \u001b[49m\u001b[38;5;28;43mint\u001b[39;49m\u001b[43m(\u001b[49m\u001b[38;5;28;43mstr\u001b[39;49m\u001b[43m(\u001b[49m\u001b[43mx\u001b[49m\u001b[43m)\u001b[49m\u001b[38;5;241;43m.\u001b[39;49m\u001b[43msplit\u001b[49m\u001b[43m(\u001b[49m\u001b[38;5;124;43m\"\u001b[39;49m\u001b[38;5;124;43m:\u001b[39;49m\u001b[38;5;124;43m\"\u001b[39;49m\u001b[43m)\u001b[49m\u001b[43m[\u001b[49m\u001b[38;5;241;43m1\u001b[39;49m\u001b[43m]\u001b[49m\u001b[43m)\u001b[49m\u001b[43m \u001b[49m\u001b[38;5;28;43;01mif\u001b[39;49;00m\u001b[43m \u001b[49m\u001b[38;5;28;43misinstance\u001b[39;49m\u001b[43m(\u001b[49m\u001b[43mx\u001b[49m\u001b[43m,\u001b[49m\u001b[43m \u001b[49m\u001b[38;5;28;43mstr\u001b[39;49m\u001b[43m)\u001b[49m\u001b[43m \u001b[49m\u001b[38;5;28;43;01melse\u001b[39;49;00m\u001b[43m \u001b[49m\u001b[38;5;241;43m0\u001b[39;49m\u001b[43m \u001b[49m\u001b[38;5;241;43m<\u001b[39;49m\u001b[43m \u001b[49m\u001b[43mspawn_time_threshold\u001b[49m\u001b[43m)\u001b[49m\u001b[43m]\u001b[49m\n",
      "File \u001b[0;32m~/.local/lib/python3.8/site-packages/pandas/core/frame.py:3767\u001b[0m, in \u001b[0;36mDataFrame.__getitem__\u001b[0;34m(self, key)\u001b[0m\n\u001b[1;32m   3765\u001b[0m     \u001b[39mif\u001b[39;00m is_iterator(key):\n\u001b[1;32m   3766\u001b[0m         key \u001b[39m=\u001b[39m \u001b[39mlist\u001b[39m(key)\n\u001b[0;32m-> 3767\u001b[0m     indexer \u001b[39m=\u001b[39m \u001b[39mself\u001b[39;49m\u001b[39m.\u001b[39;49mcolumns\u001b[39m.\u001b[39;49m_get_indexer_strict(key, \u001b[39m\"\u001b[39;49m\u001b[39mcolumns\u001b[39;49m\u001b[39m\"\u001b[39;49m)[\u001b[39m1\u001b[39m]\n\u001b[1;32m   3769\u001b[0m \u001b[39m# take() does not accept boolean indexers\u001b[39;00m\n\u001b[1;32m   3770\u001b[0m \u001b[39mif\u001b[39;00m \u001b[39mgetattr\u001b[39m(indexer, \u001b[39m\"\u001b[39m\u001b[39mdtype\u001b[39m\u001b[39m\"\u001b[39m, \u001b[39mNone\u001b[39;00m) \u001b[39m==\u001b[39m \u001b[39mbool\u001b[39m:\n",
      "File \u001b[0;32m~/.local/lib/python3.8/site-packages/pandas/core/indexes/base.py:5876\u001b[0m, in \u001b[0;36mIndex._get_indexer_strict\u001b[0;34m(self, key, axis_name)\u001b[0m\n\u001b[1;32m   5873\u001b[0m \u001b[39melse\u001b[39;00m:\n\u001b[1;32m   5874\u001b[0m     keyarr, indexer, new_indexer \u001b[39m=\u001b[39m \u001b[39mself\u001b[39m\u001b[39m.\u001b[39m_reindex_non_unique(keyarr)\n\u001b[0;32m-> 5876\u001b[0m \u001b[39mself\u001b[39;49m\u001b[39m.\u001b[39;49m_raise_if_missing(keyarr, indexer, axis_name)\n\u001b[1;32m   5878\u001b[0m keyarr \u001b[39m=\u001b[39m \u001b[39mself\u001b[39m\u001b[39m.\u001b[39mtake(indexer)\n\u001b[1;32m   5879\u001b[0m \u001b[39mif\u001b[39;00m \u001b[39misinstance\u001b[39m(key, Index):\n\u001b[1;32m   5880\u001b[0m     \u001b[39m# GH 42790 - Preserve name from an Index\u001b[39;00m\n",
      "File \u001b[0;32m~/.local/lib/python3.8/site-packages/pandas/core/indexes/base.py:5935\u001b[0m, in \u001b[0;36mIndex._raise_if_missing\u001b[0;34m(self, key, indexer, axis_name)\u001b[0m\n\u001b[1;32m   5933\u001b[0m     \u001b[39mif\u001b[39;00m use_interval_msg:\n\u001b[1;32m   5934\u001b[0m         key \u001b[39m=\u001b[39m \u001b[39mlist\u001b[39m(key)\n\u001b[0;32m-> 5935\u001b[0m     \u001b[39mraise\u001b[39;00m \u001b[39mKeyError\u001b[39;00m(\u001b[39mf\u001b[39m\u001b[39m\"\u001b[39m\u001b[39mNone of [\u001b[39m\u001b[39m{\u001b[39;00mkey\u001b[39m}\u001b[39;00m\u001b[39m] are in the [\u001b[39m\u001b[39m{\u001b[39;00maxis_name\u001b[39m}\u001b[39;00m\u001b[39m]\u001b[39m\u001b[39m\"\u001b[39m)\n\u001b[1;32m   5937\u001b[0m not_found \u001b[39m=\u001b[39m \u001b[39mlist\u001b[39m(ensure_index(key)[missing_mask\u001b[39m.\u001b[39mnonzero()[\u001b[39m0\u001b[39m]]\u001b[39m.\u001b[39munique())\n\u001b[1;32m   5938\u001b[0m \u001b[39mraise\u001b[39;00m \u001b[39mKeyError\u001b[39;00m(\u001b[39mf\u001b[39m\u001b[39m\"\u001b[39m\u001b[39m{\u001b[39;00mnot_found\u001b[39m}\u001b[39;00m\u001b[39m not in index\u001b[39m\u001b[39m\"\u001b[39m)\n",
      "\u001b[0;31mKeyError\u001b[0m: \"None of [Index([1200,  420,  690,  525, 1140,  814,  265,  422,    6,  995,\\n       ...\\n       1420, 1420, True, True, True,  401,  717, 1418, True, True],\\n      dtype='object', length=151)] are in the [columns]\""
     ]
    }
   ],
   "source": [
    "import pandas as pd\n",
    "\n",
    "# Read the Pokémon data from the Excel file\n",
    "pokemons_data = pd.read_excel(\"pokedex.xlsx\")\n",
    "\n",
    "# Get all Pokémon whose spawn time is less than 300 seconds\n",
    "spawn_time_threshold = 300\n",
    "\n",
    "# Convert spawn time to seconds and filter Pokémon\n",
    "pokemons_low_spawn_time = pokemons_data[pokemons_data[\"Spawn Time\"].apply(lambda x: int(str(x).split(\":\")[0]) * 60 + int(str(x).split(\":\")[1]) if isinstance(x, str) else 0 < spawn_time_threshold)]\n"
   ]
  },
  {
   "cell_type": "code",
   "execution_count": 62,
   "metadata": {},
   "outputs": [
    {
     "name": "stdout",
     "output_type": "stream",
     "text": [
      "Index(['ID', 'Number', 'Name', 'Image', 'Type', 'Height', 'Weight', 'Candy',\n",
      "       'Candy Count', 'Egg', 'Spawn Chance', 'Average Spawns', 'Spawn Time',\n",
      "       'Weaknesses', 'Next Evolution', 'Previous Evolution'],\n",
      "      dtype='object')\n"
     ]
    }
   ],
   "source": [
    "import pandas as pd\n",
    "\n",
    "# Read the Pokémon data from the Excel file\n",
    "pokemons_data = pd.read_excel(\"pokedex.xlsx\")\n",
    "\n",
    "# Print the column names\n",
    "print(pokemons_data.columns)\n",
    "\n"
   ]
  },
  {
   "cell_type": "code",
   "execution_count": 63,
   "metadata": {},
   "outputs": [],
   "source": [
    "# Get all Pokémon who have more than two types of capabilities\n",
    "capability_threshold = 2\n",
    "pokemons_data=pd.read_excel(\"pokedex.xlsx\")\n",
    "pokemons_multiple_capabilities = pokemons_data[pokemons_data[\"Type\"].apply(lambda x: len(x.split(\",\"))) > capability_threshold]"
   ]
  },
  {
   "cell_type": "code",
   "execution_count": 65,
   "metadata": {},
   "outputs": [
    {
     "data": {
      "image/png": "[encoded data removed]",
      "text/plain": [
       "<Figure size 600x600 with 1 Axes>"
      ]
     },
     "metadata": {},
     "output_type": "display_data"
    }
   ],
   "source": [
    "# Plotting\n",
    "pokemons_data=pd.read_excel(\"pokedex.xlsx\")\n",
    "# Number of Pokémon with spawn rate less than 5%\n",
    "labels = [\"Spawn Rate < 5%\", \"Spawn Rate >= 5%\"]\n",
    "sizes = [len(pokemons_low_spawn_rate), len(pokemons_data) - len(pokemons_low_spawn_rate)]\n",
    "plt.figure(figsize=(6, 6))\n",
    "plt.pie(sizes, labels=labels, autopct=\"%1.1f%%\")\n",
    "plt.title(\"Pokémon Spawn Rate Analysis\")\n",
    "plt.show()"
   ]
  },
  {
   "cell_type": "code",
   "execution_count": 67,
   "metadata": {},
   "outputs": [
    {
     "data": {
      "image/png": "[encoded data removed]",
      "text/plain": [
       "<Figure size 600x600 with 1 Axes>"
      ]
     },
     "metadata": {},
     "output_type": "display_data"
    }
   ],
   "source": [
    "labels = [\"Weaknesses < 4\", \"Weaknesses >= 4\"]\n",
    "sizes = [len(pokemons_low_weakness), len(pokemons_data) - len(pokemons_low_weakness)]\n",
    "plt.figure(figsize=(6, 6))\n",
    "plt.pie(sizes, labels=labels, autopct=\"%1.1f%%\")\n",
    "plt.title(\"Pokémon Weaknesses Analysis\")\n",
    "plt.show()"
   ]
  },
  {
   "cell_type": "code",
   "execution_count": null,
   "metadata": {},
   "outputs": [],
   "source": []
  },
  {
   "cell_type": "code",
   "execution_count": 71,
   "metadata": {},
   "outputs": [],
   "source": [
    "# labels = [\"No Multipliers\", \"With Multipliers\"]\n",
    "# sizes = [len(pokemons_no_multipliers), len(pokemons_data) - len(pokemons_no_multipliers)]\n",
    "# plt.figure(figsize=(6, 6))\n",
    "# plt.pie(sizes, labels=labels, autopct=\"%1.1f%%\")\n",
    "# plt.title(\"Pokémon Multipliers Analysis\")\n",
    "# plt.show()\n",
    "# # multipler are not available in m dataset"
   ]
  },
  {
   "cell_type": "code",
   "execution_count": 72,
   "metadata": {},
   "outputs": [
    {
     "data": {
      "image/png": "[encoded data removed]",
      "text/plain": [
       "<Figure size 600x600 with 1 Axes>"
      ]
     },
     "metadata": {},
     "output_type": "display_data"
    }
   ],
   "source": [
    "# Number of Pokémon with not more than 2 evolutions\n",
    "labels = [\"Evolutions <= 2\", \"Evolutions > 2\"]\n",
    "sizes = [len(pokemons_few_evolutions), len(pokemons_data) - len(pokemons_few_evolutions)]\n",
    "plt.figure(figsize=(6, 6))\n",
    "plt.pie(sizes, labels=labels, autopct=\"%1.1f%%\")\n",
    "plt.title(\"Pokémon Evolutions Analysis\")\n",
    "plt.show()"
   ]
  },
  {
   "cell_type": "code",
   "execution_count": 77,
   "metadata": {},
   "outputs": [],
   "source": [
    "spawn_time_threshold = 300\n",
    "\n",
    "# Filter Pokémon based on spawn time\n",
    "pokemons_low_spawn_time = pokemons_data[pokemons_data[\"Spawn Time\"].apply(lambda x: int(str(x).split(\":\")[0]) * 60 + int(str(x).split(\":\")[1]) if isinstance(x, str) else 0) < spawn_time_threshold]\n"
   ]
  },
  {
   "cell_type": "code",
   "execution_count": 78,
   "metadata": {},
   "outputs": [
    {
     "data": {
      "image/png": "[encoded data removed]",
      "text/plain": [
       "<Figure size 600x600 with 1 Axes>"
      ]
     },
     "metadata": {},
     "output_type": "display_data"
    }
   ],
   "source": [
    "# Number of Pokémon with spawn time less than 300 seconds\n",
    "labels = [\"Spawn Time < 300s\", \"Spawn Time >= 300s\"]\n",
    "sizes = [len(pokemons_low_spawn_time), len(pokemons_data) - len(pokemons_low_spawn_time)]\n",
    "plt.figure(figsize=(6, 6))\n",
    "plt.pie(sizes, labels=labels, autopct=\"%1.1f%%\")\n",
    "plt.title(\"Pokémon Spawn Time Analysis\")\n",
    "plt.show()\n"
   ]
  },
  {
   "cell_type": "code",
   "execution_count": 80,
   "metadata": {},
   "outputs": [],
   "source": [
    "# Get all Pokémon who have more than two types of capabilities\n",
    "capability_threshold = 2\n",
    "pokemons_multiple_capabilities = pokemons_data[pokemons_data[\"Type\"].apply(lambda x: len(x.split(\",\"))) > capability_threshold]\n"
   ]
  },
  {
   "cell_type": "code",
   "execution_count": 81,
   "metadata": {},
   "outputs": [
    {
     "data": {
      "image/png": "[encoded data removed]",
      "text/plain": [
       "<Figure size 600x600 with 1 Axes>"
      ]
     },
     "metadata": {},
     "output_type": "display_data"
    }
   ],
   "source": [
    "# Number of Pokémon with more than two types of capabilities\n",
    "labels = [\"Multiple Capabilities\", \"Single Capability\"]\n",
    "sizes = [len(pokemons_multiple_capabilities), len(pokemons_data) - len(pokemons_multiple_capabilities)]\n",
    "plt.figure(figsize=(6, 6))\n",
    "plt.pie(sizes, labels=labels, autopct=\"%1.1f%%\")\n",
    "plt.title(\"Pokémon Capabilities Analysis\")\n",
    "plt.show()"
   ]
  },
  {
   "cell_type": "code",
   "execution_count": 82,
   "metadata": {},
   "outputs": [
    {
     "data": {
      "text/plain": [
       "'\\nQuestion 7 -\\nUsing the data from Question 4, write code to analyze the data and answer the following questions Note -\\n1. Draw plots to demonstrate the analysis for the following questions for better visualizations\\n2. Write code comments wherever required for code understanding\\n\\nInsights to be drawn -\\n● Get all the Earth meteorites that fell before the year 2000\\n● Get all the earth meteorites co-ordinates who fell before the year 1970\\n● Assuming that the mass of the earth meteorites was in kg, get all those whose mass was more\\nthan 10000kg\\n'"
      ]
     },
     "execution_count": 82,
     "metadata": {},
     "output_type": "execute_result"
    }
   ],
   "source": [
    "\"\"\"\n",
    "Question 7 -\n",
    "Using the data from Question 4, write code to analyze the data and answer the following questions Note -\n",
    "1. Draw plots to demonstrate the analysis for the following questions for better visualizations\n",
    "2. Write code comments wherever required for code understanding\n",
    "\n",
    "Insights to be drawn -\n",
    "● Get all the Earth meteorites that fell before the year 2000\n",
    "● Get all the earth meteorites co-ordinates who fell before the year 1970\n",
    "● Assuming that the mass of the earth meteorites was in kg, get all those whose mass was more\n",
    "than 10000kg\n",
    "\"\"\""
   ]
  },
  {
   "cell_type": "code",
   "execution_count": 102,
   "metadata": {},
   "outputs": [],
   "source": [
    "meteorites_data = pd.read_csv(\"nasa_data.csv\")\n"
   ]
  },
  {
   "cell_type": "code",
   "execution_count": 103,
   "metadata": {},
   "outputs": [
    {
     "data": {
      "text/html": [
       "<div>\n",
       "<style scoped>\n",
       "    .dataframe tbody tr th:only-of-type {\n",
       "        vertical-align: middle;\n",
       "    }\n",
       "\n",
       "    .dataframe tbody tr th {\n",
       "        vertical-align: top;\n",
       "    }\n",
       "\n",
       "    .dataframe thead th {\n",
       "        text-align: right;\n",
       "    }\n",
       "</style>\n",
       "<table border=\"1\" class=\"dataframe\">\n",
       "  <thead>\n",
       "    <tr style=\"text-align: right;\">\n",
       "      <th></th>\n",
       "      <th>nametype</th>\n",
       "      <th>reclat</th>\n",
       "      <th>name</th>\n",
       "      <th>fall</th>\n",
       "      <th>recclass</th>\n",
       "      <th>id</th>\n",
       "      <th>geolocation</th>\n",
       "      <th>year</th>\n",
       "      <th>:@computed_region_cbhk_fwbd</th>\n",
       "      <th>mass</th>\n",
       "      <th>:@computed_region_nnqa_25f4</th>\n",
       "      <th>reclong</th>\n",
       "    </tr>\n",
       "  </thead>\n",
       "  <tbody>\n",
       "    <tr>\n",
       "      <th>0</th>\n",
       "      <td>Valid</td>\n",
       "      <td>50.77500</td>\n",
       "      <td>Aachen</td>\n",
       "      <td>Fell</td>\n",
       "      <td>L5</td>\n",
       "      <td>1</td>\n",
       "      <td>{'type': 'Point', 'coordinates': [6.08333, 50....</td>\n",
       "      <td>1880-01-01T00:00:00.000</td>\n",
       "      <td>NaN</td>\n",
       "      <td>21.0</td>\n",
       "      <td>NaN</td>\n",
       "      <td>6.08333</td>\n",
       "    </tr>\n",
       "    <tr>\n",
       "      <th>1</th>\n",
       "      <td>Valid</td>\n",
       "      <td>56.18333</td>\n",
       "      <td>Aarhus</td>\n",
       "      <td>Fell</td>\n",
       "      <td>H6</td>\n",
       "      <td>2</td>\n",
       "      <td>{'type': 'Point', 'coordinates': [10.23333, 56...</td>\n",
       "      <td>1951-01-01T00:00:00.000</td>\n",
       "      <td>NaN</td>\n",
       "      <td>720.0</td>\n",
       "      <td>NaN</td>\n",
       "      <td>10.23333</td>\n",
       "    </tr>\n",
       "    <tr>\n",
       "      <th>2</th>\n",
       "      <td>Valid</td>\n",
       "      <td>54.21667</td>\n",
       "      <td>Abee</td>\n",
       "      <td>Fell</td>\n",
       "      <td>EH4</td>\n",
       "      <td>6</td>\n",
       "      <td>{'type': 'Point', 'coordinates': [-113, 54.216...</td>\n",
       "      <td>1952-01-01T00:00:00.000</td>\n",
       "      <td>NaN</td>\n",
       "      <td>107000.0</td>\n",
       "      <td>NaN</td>\n",
       "      <td>-113.00000</td>\n",
       "    </tr>\n",
       "    <tr>\n",
       "      <th>3</th>\n",
       "      <td>Valid</td>\n",
       "      <td>16.88333</td>\n",
       "      <td>Acapulco</td>\n",
       "      <td>Fell</td>\n",
       "      <td>Acapulcoite</td>\n",
       "      <td>10</td>\n",
       "      <td>{'type': 'Point', 'coordinates': [-99.9, 16.88...</td>\n",
       "      <td>1976-01-01T00:00:00.000</td>\n",
       "      <td>NaN</td>\n",
       "      <td>1914.0</td>\n",
       "      <td>NaN</td>\n",
       "      <td>-99.90000</td>\n",
       "    </tr>\n",
       "    <tr>\n",
       "      <th>4</th>\n",
       "      <td>Valid</td>\n",
       "      <td>-33.16667</td>\n",
       "      <td>Achiras</td>\n",
       "      <td>Fell</td>\n",
       "      <td>L6</td>\n",
       "      <td>370</td>\n",
       "      <td>{'type': 'Point', 'coordinates': [-64.95, -33....</td>\n",
       "      <td>1902-01-01T00:00:00.000</td>\n",
       "      <td>NaN</td>\n",
       "      <td>780.0</td>\n",
       "      <td>NaN</td>\n",
       "      <td>-64.95000</td>\n",
       "    </tr>\n",
       "    <tr>\n",
       "      <th>...</th>\n",
       "      <td>...</td>\n",
       "      <td>...</td>\n",
       "      <td>...</td>\n",
       "      <td>...</td>\n",
       "      <td>...</td>\n",
       "      <td>...</td>\n",
       "      <td>...</td>\n",
       "      <td>...</td>\n",
       "      <td>...</td>\n",
       "      <td>...</td>\n",
       "      <td>...</td>\n",
       "      <td>...</td>\n",
       "    </tr>\n",
       "    <tr>\n",
       "      <th>995</th>\n",
       "      <td>Valid</td>\n",
       "      <td>13.63333</td>\n",
       "      <td>Tirupati</td>\n",
       "      <td>Fell</td>\n",
       "      <td>H6</td>\n",
       "      <td>24009</td>\n",
       "      <td>{'type': 'Point', 'coordinates': [79.41667, 13...</td>\n",
       "      <td>1934-01-01T00:00:00.000</td>\n",
       "      <td>NaN</td>\n",
       "      <td>230.0</td>\n",
       "      <td>NaN</td>\n",
       "      <td>79.41667</td>\n",
       "    </tr>\n",
       "    <tr>\n",
       "      <th>996</th>\n",
       "      <td>Valid</td>\n",
       "      <td>29.48195</td>\n",
       "      <td>Tissint</td>\n",
       "      <td>Fell</td>\n",
       "      <td>Martian (shergottite)</td>\n",
       "      <td>54823</td>\n",
       "      <td>{'type': 'Point', 'coordinates': [-7.61123, 29...</td>\n",
       "      <td>2011-01-01T00:00:00.000</td>\n",
       "      <td>NaN</td>\n",
       "      <td>7000.0</td>\n",
       "      <td>NaN</td>\n",
       "      <td>-7.61123</td>\n",
       "    </tr>\n",
       "    <tr>\n",
       "      <th>997</th>\n",
       "      <td>Valid</td>\n",
       "      <td>-7.08333</td>\n",
       "      <td>Tjabe</td>\n",
       "      <td>Fell</td>\n",
       "      <td>H6</td>\n",
       "      <td>24011</td>\n",
       "      <td>{'type': 'Point', 'coordinates': [111.53333, -...</td>\n",
       "      <td>1869-01-01T00:00:00.000</td>\n",
       "      <td>NaN</td>\n",
       "      <td>20000.0</td>\n",
       "      <td>NaN</td>\n",
       "      <td>111.53333</td>\n",
       "    </tr>\n",
       "    <tr>\n",
       "      <th>998</th>\n",
       "      <td>Valid</td>\n",
       "      <td>-6.66667</td>\n",
       "      <td>Tjerebon</td>\n",
       "      <td>Fell</td>\n",
       "      <td>L5</td>\n",
       "      <td>24012</td>\n",
       "      <td>{'type': 'Point', 'coordinates': [106.58333, -...</td>\n",
       "      <td>1922-01-01T00:00:00.000</td>\n",
       "      <td>NaN</td>\n",
       "      <td>16500.0</td>\n",
       "      <td>NaN</td>\n",
       "      <td>106.58333</td>\n",
       "    </tr>\n",
       "    <tr>\n",
       "      <th>999</th>\n",
       "      <td>Valid</td>\n",
       "      <td>47.85000</td>\n",
       "      <td>Tomakovka</td>\n",
       "      <td>Fell</td>\n",
       "      <td>LL6</td>\n",
       "      <td>24019</td>\n",
       "      <td>{'type': 'Point', 'coordinates': [34.76667, 47...</td>\n",
       "      <td>1905-01-01T00:00:00.000</td>\n",
       "      <td>NaN</td>\n",
       "      <td>600.0</td>\n",
       "      <td>NaN</td>\n",
       "      <td>34.76667</td>\n",
       "    </tr>\n",
       "  </tbody>\n",
       "</table>\n",
       "<p>1000 rows × 12 columns</p>\n",
       "</div>"
      ],
      "text/plain": [
       "    nametype    reclat       name  fall               recclass     id   \n",
       "0      Valid  50.77500     Aachen  Fell                     L5      1  \\\n",
       "1      Valid  56.18333     Aarhus  Fell                     H6      2   \n",
       "2      Valid  54.21667       Abee  Fell                    EH4      6   \n",
       "3      Valid  16.88333   Acapulco  Fell            Acapulcoite     10   \n",
       "4      Valid -33.16667    Achiras  Fell                     L6    370   \n",
       "..       ...       ...        ...   ...                    ...    ...   \n",
       "995    Valid  13.63333   Tirupati  Fell                     H6  24009   \n",
       "996    Valid  29.48195    Tissint  Fell  Martian (shergottite)  54823   \n",
       "997    Valid  -7.08333      Tjabe  Fell                     H6  24011   \n",
       "998    Valid  -6.66667   Tjerebon  Fell                     L5  24012   \n",
       "999    Valid  47.85000  Tomakovka  Fell                    LL6  24019   \n",
       "\n",
       "                                           geolocation   \n",
       "0    {'type': 'Point', 'coordinates': [6.08333, 50....  \\\n",
       "1    {'type': 'Point', 'coordinates': [10.23333, 56...   \n",
       "2    {'type': 'Point', 'coordinates': [-113, 54.216...   \n",
       "3    {'type': 'Point', 'coordinates': [-99.9, 16.88...   \n",
       "4    {'type': 'Point', 'coordinates': [-64.95, -33....   \n",
       "..                                                 ...   \n",
       "995  {'type': 'Point', 'coordinates': [79.41667, 13...   \n",
       "996  {'type': 'Point', 'coordinates': [-7.61123, 29...   \n",
       "997  {'type': 'Point', 'coordinates': [111.53333, -...   \n",
       "998  {'type': 'Point', 'coordinates': [106.58333, -...   \n",
       "999  {'type': 'Point', 'coordinates': [34.76667, 47...   \n",
       "\n",
       "                        year  :@computed_region_cbhk_fwbd      mass   \n",
       "0    1880-01-01T00:00:00.000                          NaN      21.0  \\\n",
       "1    1951-01-01T00:00:00.000                          NaN     720.0   \n",
       "2    1952-01-01T00:00:00.000                          NaN  107000.0   \n",
       "3    1976-01-01T00:00:00.000                          NaN    1914.0   \n",
       "4    1902-01-01T00:00:00.000                          NaN     780.0   \n",
       "..                       ...                          ...       ...   \n",
       "995  1934-01-01T00:00:00.000                          NaN     230.0   \n",
       "996  2011-01-01T00:00:00.000                          NaN    7000.0   \n",
       "997  1869-01-01T00:00:00.000                          NaN   20000.0   \n",
       "998  1922-01-01T00:00:00.000                          NaN   16500.0   \n",
       "999  1905-01-01T00:00:00.000                          NaN     600.0   \n",
       "\n",
       "     :@computed_region_nnqa_25f4    reclong  \n",
       "0                            NaN    6.08333  \n",
       "1                            NaN   10.23333  \n",
       "2                            NaN -113.00000  \n",
       "3                            NaN  -99.90000  \n",
       "4                            NaN  -64.95000  \n",
       "..                           ...        ...  \n",
       "995                          NaN   79.41667  \n",
       "996                          NaN   -7.61123  \n",
       "997                          NaN  111.53333  \n",
       "998                          NaN  106.58333  \n",
       "999                          NaN   34.76667  \n",
       "\n",
       "[1000 rows x 12 columns]"
      ]
     },
     "execution_count": 103,
     "metadata": {},
     "output_type": "execute_result"
    }
   ],
   "source": [
    "meteorites_data"
   ]
  },
  {
   "cell_type": "code",
   "execution_count": 104,
   "metadata": {},
   "outputs": [
    {
     "data": {
      "text/plain": [
       "0      1880-01-01T00:00:00.000\n",
       "1      1951-01-01T00:00:00.000\n",
       "2      1952-01-01T00:00:00.000\n",
       "3      1976-01-01T00:00:00.000\n",
       "4      1902-01-01T00:00:00.000\n",
       "                ...           \n",
       "995    1934-01-01T00:00:00.000\n",
       "996    2011-01-01T00:00:00.000\n",
       "997    1869-01-01T00:00:00.000\n",
       "998    1922-01-01T00:00:00.000\n",
       "999    1905-01-01T00:00:00.000\n",
       "Name: year, Length: 1000, dtype: object"
      ]
     },
     "execution_count": 104,
     "metadata": {},
     "output_type": "execute_result"
    }
   ],
   "source": [
    "df[\"year\"]"
   ]
  },
  {
   "cell_type": "code",
   "execution_count": 106,
   "metadata": {},
   "outputs": [],
   "source": [
    "meteorites_data['year'] = pd.to_datetime(meteorites_data['year'], format=\"%Y-%m-%dT%H:%M:%S.%f\", errors='coerce')\n",
    "meteorites_data['year'] = meteorites_data['year'].dt.year\n"
   ]
  },
  {
   "cell_type": "code",
   "execution_count": 108,
   "metadata": {},
   "outputs": [
    {
     "data": {
      "text/plain": [
       "0      1880.0\n",
       "1      1951.0\n",
       "2      1952.0\n",
       "3      1976.0\n",
       "4      1902.0\n",
       "        ...  \n",
       "995    1934.0\n",
       "996    2011.0\n",
       "997    1869.0\n",
       "998    1922.0\n",
       "999    1905.0\n",
       "Name: year, Length: 1000, dtype: float64"
      ]
     },
     "execution_count": 108,
     "metadata": {},
     "output_type": "execute_result"
    }
   ],
   "source": [
    "meteorites_data[\"year\"]"
   ]
  },
  {
   "cell_type": "code",
   "execution_count": 109,
   "metadata": {},
   "outputs": [
    {
     "data": {
      "text/html": [
       "<div>\n",
       "<style scoped>\n",
       "    .dataframe tbody tr th:only-of-type {\n",
       "        vertical-align: middle;\n",
       "    }\n",
       "\n",
       "    .dataframe tbody tr th {\n",
       "        vertical-align: top;\n",
       "    }\n",
       "\n",
       "    .dataframe thead th {\n",
       "        text-align: right;\n",
       "    }\n",
       "</style>\n",
       "<table border=\"1\" class=\"dataframe\">\n",
       "  <thead>\n",
       "    <tr style=\"text-align: right;\">\n",
       "      <th></th>\n",
       "      <th>nametype</th>\n",
       "      <th>reclat</th>\n",
       "      <th>name</th>\n",
       "      <th>fall</th>\n",
       "      <th>recclass</th>\n",
       "      <th>id</th>\n",
       "      <th>geolocation</th>\n",
       "      <th>year</th>\n",
       "      <th>:@computed_region_cbhk_fwbd</th>\n",
       "      <th>mass</th>\n",
       "      <th>:@computed_region_nnqa_25f4</th>\n",
       "      <th>reclong</th>\n",
       "    </tr>\n",
       "  </thead>\n",
       "  <tbody>\n",
       "    <tr>\n",
       "      <th>0</th>\n",
       "      <td>Valid</td>\n",
       "      <td>50.77500</td>\n",
       "      <td>Aachen</td>\n",
       "      <td>Fell</td>\n",
       "      <td>L5</td>\n",
       "      <td>1</td>\n",
       "      <td>{'type': 'Point', 'coordinates': [6.08333, 50....</td>\n",
       "      <td>1880.0</td>\n",
       "      <td>NaN</td>\n",
       "      <td>21.0</td>\n",
       "      <td>NaN</td>\n",
       "      <td>6.08333</td>\n",
       "    </tr>\n",
       "    <tr>\n",
       "      <th>1</th>\n",
       "      <td>Valid</td>\n",
       "      <td>56.18333</td>\n",
       "      <td>Aarhus</td>\n",
       "      <td>Fell</td>\n",
       "      <td>H6</td>\n",
       "      <td>2</td>\n",
       "      <td>{'type': 'Point', 'coordinates': [10.23333, 56...</td>\n",
       "      <td>1951.0</td>\n",
       "      <td>NaN</td>\n",
       "      <td>720.0</td>\n",
       "      <td>NaN</td>\n",
       "      <td>10.23333</td>\n",
       "    </tr>\n",
       "    <tr>\n",
       "      <th>2</th>\n",
       "      <td>Valid</td>\n",
       "      <td>54.21667</td>\n",
       "      <td>Abee</td>\n",
       "      <td>Fell</td>\n",
       "      <td>EH4</td>\n",
       "      <td>6</td>\n",
       "      <td>{'type': 'Point', 'coordinates': [-113, 54.216...</td>\n",
       "      <td>1952.0</td>\n",
       "      <td>NaN</td>\n",
       "      <td>107000.0</td>\n",
       "      <td>NaN</td>\n",
       "      <td>-113.00000</td>\n",
       "    </tr>\n",
       "    <tr>\n",
       "      <th>3</th>\n",
       "      <td>Valid</td>\n",
       "      <td>16.88333</td>\n",
       "      <td>Acapulco</td>\n",
       "      <td>Fell</td>\n",
       "      <td>Acapulcoite</td>\n",
       "      <td>10</td>\n",
       "      <td>{'type': 'Point', 'coordinates': [-99.9, 16.88...</td>\n",
       "      <td>1976.0</td>\n",
       "      <td>NaN</td>\n",
       "      <td>1914.0</td>\n",
       "      <td>NaN</td>\n",
       "      <td>-99.90000</td>\n",
       "    </tr>\n",
       "    <tr>\n",
       "      <th>4</th>\n",
       "      <td>Valid</td>\n",
       "      <td>-33.16667</td>\n",
       "      <td>Achiras</td>\n",
       "      <td>Fell</td>\n",
       "      <td>L6</td>\n",
       "      <td>370</td>\n",
       "      <td>{'type': 'Point', 'coordinates': [-64.95, -33....</td>\n",
       "      <td>1902.0</td>\n",
       "      <td>NaN</td>\n",
       "      <td>780.0</td>\n",
       "      <td>NaN</td>\n",
       "      <td>-64.95000</td>\n",
       "    </tr>\n",
       "    <tr>\n",
       "      <th>...</th>\n",
       "      <td>...</td>\n",
       "      <td>...</td>\n",
       "      <td>...</td>\n",
       "      <td>...</td>\n",
       "      <td>...</td>\n",
       "      <td>...</td>\n",
       "      <td>...</td>\n",
       "      <td>...</td>\n",
       "      <td>...</td>\n",
       "      <td>...</td>\n",
       "      <td>...</td>\n",
       "      <td>...</td>\n",
       "    </tr>\n",
       "    <tr>\n",
       "      <th>995</th>\n",
       "      <td>Valid</td>\n",
       "      <td>13.63333</td>\n",
       "      <td>Tirupati</td>\n",
       "      <td>Fell</td>\n",
       "      <td>H6</td>\n",
       "      <td>24009</td>\n",
       "      <td>{'type': 'Point', 'coordinates': [79.41667, 13...</td>\n",
       "      <td>1934.0</td>\n",
       "      <td>NaN</td>\n",
       "      <td>230.0</td>\n",
       "      <td>NaN</td>\n",
       "      <td>79.41667</td>\n",
       "    </tr>\n",
       "    <tr>\n",
       "      <th>996</th>\n",
       "      <td>Valid</td>\n",
       "      <td>29.48195</td>\n",
       "      <td>Tissint</td>\n",
       "      <td>Fell</td>\n",
       "      <td>Martian (shergottite)</td>\n",
       "      <td>54823</td>\n",
       "      <td>{'type': 'Point', 'coordinates': [-7.61123, 29...</td>\n",
       "      <td>2011.0</td>\n",
       "      <td>NaN</td>\n",
       "      <td>7000.0</td>\n",
       "      <td>NaN</td>\n",
       "      <td>-7.61123</td>\n",
       "    </tr>\n",
       "    <tr>\n",
       "      <th>997</th>\n",
       "      <td>Valid</td>\n",
       "      <td>-7.08333</td>\n",
       "      <td>Tjabe</td>\n",
       "      <td>Fell</td>\n",
       "      <td>H6</td>\n",
       "      <td>24011</td>\n",
       "      <td>{'type': 'Point', 'coordinates': [111.53333, -...</td>\n",
       "      <td>1869.0</td>\n",
       "      <td>NaN</td>\n",
       "      <td>20000.0</td>\n",
       "      <td>NaN</td>\n",
       "      <td>111.53333</td>\n",
       "    </tr>\n",
       "    <tr>\n",
       "      <th>998</th>\n",
       "      <td>Valid</td>\n",
       "      <td>-6.66667</td>\n",
       "      <td>Tjerebon</td>\n",
       "      <td>Fell</td>\n",
       "      <td>L5</td>\n",
       "      <td>24012</td>\n",
       "      <td>{'type': 'Point', 'coordinates': [106.58333, -...</td>\n",
       "      <td>1922.0</td>\n",
       "      <td>NaN</td>\n",
       "      <td>16500.0</td>\n",
       "      <td>NaN</td>\n",
       "      <td>106.58333</td>\n",
       "    </tr>\n",
       "    <tr>\n",
       "      <th>999</th>\n",
       "      <td>Valid</td>\n",
       "      <td>47.85000</td>\n",
       "      <td>Tomakovka</td>\n",
       "      <td>Fell</td>\n",
       "      <td>LL6</td>\n",
       "      <td>24019</td>\n",
       "      <td>{'type': 'Point', 'coordinates': [34.76667, 47...</td>\n",
       "      <td>1905.0</td>\n",
       "      <td>NaN</td>\n",
       "      <td>600.0</td>\n",
       "      <td>NaN</td>\n",
       "      <td>34.76667</td>\n",
       "    </tr>\n",
       "  </tbody>\n",
       "</table>\n",
       "<p>1000 rows × 12 columns</p>\n",
       "</div>"
      ],
      "text/plain": [
       "    nametype    reclat       name  fall               recclass     id   \n",
       "0      Valid  50.77500     Aachen  Fell                     L5      1  \\\n",
       "1      Valid  56.18333     Aarhus  Fell                     H6      2   \n",
       "2      Valid  54.21667       Abee  Fell                    EH4      6   \n",
       "3      Valid  16.88333   Acapulco  Fell            Acapulcoite     10   \n",
       "4      Valid -33.16667    Achiras  Fell                     L6    370   \n",
       "..       ...       ...        ...   ...                    ...    ...   \n",
       "995    Valid  13.63333   Tirupati  Fell                     H6  24009   \n",
       "996    Valid  29.48195    Tissint  Fell  Martian (shergottite)  54823   \n",
       "997    Valid  -7.08333      Tjabe  Fell                     H6  24011   \n",
       "998    Valid  -6.66667   Tjerebon  Fell                     L5  24012   \n",
       "999    Valid  47.85000  Tomakovka  Fell                    LL6  24019   \n",
       "\n",
       "                                           geolocation    year   \n",
       "0    {'type': 'Point', 'coordinates': [6.08333, 50....  1880.0  \\\n",
       "1    {'type': 'Point', 'coordinates': [10.23333, 56...  1951.0   \n",
       "2    {'type': 'Point', 'coordinates': [-113, 54.216...  1952.0   \n",
       "3    {'type': 'Point', 'coordinates': [-99.9, 16.88...  1976.0   \n",
       "4    {'type': 'Point', 'coordinates': [-64.95, -33....  1902.0   \n",
       "..                                                 ...     ...   \n",
       "995  {'type': 'Point', 'coordinates': [79.41667, 13...  1934.0   \n",
       "996  {'type': 'Point', 'coordinates': [-7.61123, 29...  2011.0   \n",
       "997  {'type': 'Point', 'coordinates': [111.53333, -...  1869.0   \n",
       "998  {'type': 'Point', 'coordinates': [106.58333, -...  1922.0   \n",
       "999  {'type': 'Point', 'coordinates': [34.76667, 47...  1905.0   \n",
       "\n",
       "     :@computed_region_cbhk_fwbd      mass  :@computed_region_nnqa_25f4   \n",
       "0                            NaN      21.0                          NaN  \\\n",
       "1                            NaN     720.0                          NaN   \n",
       "2                            NaN  107000.0                          NaN   \n",
       "3                            NaN    1914.0                          NaN   \n",
       "4                            NaN     780.0                          NaN   \n",
       "..                           ...       ...                          ...   \n",
       "995                          NaN     230.0                          NaN   \n",
       "996                          NaN    7000.0                          NaN   \n",
       "997                          NaN   20000.0                          NaN   \n",
       "998                          NaN   16500.0                          NaN   \n",
       "999                          NaN     600.0                          NaN   \n",
       "\n",
       "       reclong  \n",
       "0      6.08333  \n",
       "1     10.23333  \n",
       "2   -113.00000  \n",
       "3    -99.90000  \n",
       "4    -64.95000  \n",
       "..         ...  \n",
       "995   79.41667  \n",
       "996   -7.61123  \n",
       "997  111.53333  \n",
       "998  106.58333  \n",
       "999   34.76667  \n",
       "\n",
       "[1000 rows x 12 columns]"
      ]
     },
     "execution_count": 109,
     "metadata": {},
     "output_type": "execute_result"
    }
   ],
   "source": [
    "meteorites_data"
   ]
  },
  {
   "cell_type": "code",
   "execution_count": 112,
   "metadata": {},
   "outputs": [],
   "source": [
    "import pandas as pd\n",
    "\n",
    "# Read the meteorite data from the CSV file\n",
    "meteorites_data = pd.read_csv(\"nasa_data.csv\")\n",
    "\n",
    "# Convert the 'year' column to datetime, ignoring errors\n",
    "meteorites_data['year'] = pd.to_datetime(meteorites_data['year'], format=\"%Y-%m-%dT%H:%M:%S.%f\", errors='coerce')\n",
    "\n",
    "# Filter out the invalid datetime values\n",
    "valid_meteorites_data = meteorites_data.dropna(subset=['year'])\n",
    "\n",
    "# Get all Earth meteorites that fell before the year 2000\n",
    "earth_meteorites_before_2000 = valid_meteorites_data[(valid_meteorites_data['reclat'] != 0) & (valid_meteorites_data['year'].dt.year < 2000)]\n"
   ]
  },
  {
   "cell_type": "code",
   "execution_count": 114,
   "metadata": {},
   "outputs": [],
   "source": [
    "# Get all Earth meteorites coordinates that fell before the year 1970\n",
    "earth_meteorites_coordinates_before_1970 = earth_meteorites_before_2000[earth_meteorites_before_2000['year'].dt.year < 1970]"
   ]
  },
  {
   "cell_type": "code",
   "execution_count": 118,
   "metadata": {},
   "outputs": [],
   "source": [
    "earth_meteorites_mass_greater_than_10000kg = meteorites_data[(meteorites_data['reclat'] != 0) & (meteorites_data['mass'] > 10000)]\n"
   ]
  },
  {
   "cell_type": "code",
   "execution_count": 119,
   "metadata": {},
   "outputs": [
    {
     "data": {
      "text/plain": [
       "Text(0, 0.5, 'Frequency')"
      ]
     },
     "execution_count": 119,
     "metadata": {},
     "output_type": "execute_result"
    },
    {
     "data": {
      "image/png": "[encoded data removed]",
      "text/plain": [
       "<Figure size 1000x600 with 1 Axes>"
      ]
     },
     "metadata": {},
     "output_type": "display_data"
    }
   ],
   "source": [
    "# Plotting the data\n",
    "plt.figure(figsize=(10, 6))\n",
    "\n",
    "# Plot 1: Earth meteorites fell before 2000\n",
    "plt.subplot(2, 2, 1)\n",
    "plt.hist(earth_meteorites_before_2000['year'].dt.year, bins=30, edgecolor='black')\n",
    "plt.title('Earth Meteorites Fell Before 2000')\n",
    "plt.xlabel('Year')\n",
    "plt.ylabel('Frequency')\n"
   ]
  },
  {
   "cell_type": "code",
   "execution_count": 120,
   "metadata": {},
   "outputs": [
    {
     "data": {
      "text/plain": [
       "Text(0, 0.5, 'Latitude')"
      ]
     },
     "execution_count": 120,
     "metadata": {},
     "output_type": "execute_result"
    },
    {
     "data": {
      "image/png": "[encoded data removed]",
      "text/plain": [
       "<Figure size 640x480 with 1 Axes>"
      ]
     },
     "metadata": {},
     "output_type": "display_data"
    }
   ],
   "source": [
    "# Plot 2: Earth meteorites coordinates fell before 1970\n",
    "plt.subplot(2, 2, 2)\n",
    "plt.scatter(earth_meteorites_coordinates_before_1970['reclong'], earth_meteorites_coordinates_before_1970['reclat'], s=10)\n",
    "plt.title('Earth Meteorites Coordinates Fell Before 1970')\n",
    "plt.xlabel('Longitude')\n",
    "plt.ylabel('Latitude')"
   ]
  },
  {
   "cell_type": "code",
   "execution_count": 122,
   "metadata": {},
   "outputs": [
    {
     "data": {
      "text/plain": [
       "Text(0, 0.5, 'Frequency')"
      ]
     },
     "execution_count": 122,
     "metadata": {},
     "output_type": "execute_result"
    },
    {
     "data": {
      "image/png": "[encoded data removed]",
      "text/plain": [
       "<Figure size 640x480 with 1 Axes>"
      ]
     },
     "metadata": {},
     "output_type": "display_data"
    }
   ],
   "source": [
    "# Plot 3: Earth meteorites with mass greater than 10000kg\n",
    "plt.subplot(2, 2, 3)\n",
    "plt.hist(earth_meteorites_mass_greater_than_10000kg['mass'] / 1000, bins=30, edgecolor='black')\n",
    "plt.title('Earth Meteorites with Mass > 10000kg')\n",
    "plt.xlabel('Mass (kg)')\n",
    "plt.ylabel('Frequency')"
   ]
  },
  {
   "cell_type": "code",
   "execution_count": 123,
   "metadata": {},
   "outputs": [
    {
     "data": {
      "text/plain": [
       "<Figure size 640x480 with 0 Axes>"
      ]
     },
     "metadata": {},
     "output_type": "display_data"
    }
   ],
   "source": [
    "# Adjust subplot spacing\n",
    "plt.tight_layout()\n",
    "\n",
    "# Show the plots\n",
    "plt.show()"
   ]
  },
  {
   "cell_type": "code",
   "execution_count": 144,
   "metadata": {},
   "outputs": [
    {
     "data": {
      "text/plain": [
       "'\\n8.Using the data from Question 5, write code the analyze the data and answer the following questions Note -\\n1. Draw plots to demonstrate the analysis for the following questions and better visualizations\\n2. Write code comments wherever required for code understanding\\n\\nInsights to be drawn -\\n● Get all the overall ratings for each season and using plots compare the ratings for all the\\nseasons, like season 1 ratings, season 2, and so on.\\n● Get all the episode names, whose average rating is more than 8 for every season\\n● Get all the episode names that aired before May 2019\\n● Get the episode name from each season with the highest and lowest rating\\n● Get the summary for the most popular ( ratings ) episode in every season\\n'"
      ]
     },
     "execution_count": 144,
     "metadata": {},
     "output_type": "execute_result"
    }
   ],
   "source": [
    "\"\"\"\n",
    "8.Using the data from Question 5, write code the analyze the data and answer the following questions Note -\n",
    "1. Draw plots to demonstrate the analysis for the following questions and better visualizations\n",
    "2. Write code comments wherever required for code understanding\n",
    "\n",
    "Insights to be drawn -\n",
    "● Get all the overall ratings for each season and using plots compare the ratings for all the\n",
    "seasons, like season 1 ratings, season 2, and so on.\n",
    "● Get all the episode names, whose average rating is more than 8 for every season\n",
    "● Get all the episode names that aired before May 2019\n",
    "● Get the episode name from each season with the highest and lowest rating\n",
    "● Get the summary for the most popular ( ratings ) episode in every season\n",
    "\"\"\""
   ]
  },
  {
   "cell_type": "code",
   "execution_count": 126,
   "metadata": {},
   "outputs": [],
   "source": [
    "data = pd.read_csv(\"westworld_episodes.csv\")"
   ]
  },
  {
   "cell_type": "code",
   "execution_count": 127,
   "metadata": {},
   "outputs": [
    {
     "data": {
      "text/html": [
       "<div>\n",
       "<style scoped>\n",
       "    .dataframe tbody tr th:only-of-type {\n",
       "        vertical-align: middle;\n",
       "    }\n",
       "\n",
       "    .dataframe tbody tr th {\n",
       "        vertical-align: top;\n",
       "    }\n",
       "\n",
       "    .dataframe thead th {\n",
       "        text-align: right;\n",
       "    }\n",
       "</style>\n",
       "<table border=\"1\" class=\"dataframe\">\n",
       "  <thead>\n",
       "    <tr style=\"text-align: right;\">\n",
       "      <th></th>\n",
       "      <th>id</th>\n",
       "      <th>url</th>\n",
       "      <th>name</th>\n",
       "      <th>season</th>\n",
       "      <th>number</th>\n",
       "      <th>type</th>\n",
       "      <th>airdate</th>\n",
       "      <th>airtime</th>\n",
       "      <th>runtime</th>\n",
       "      <th>average_rating</th>\n",
       "      <th>summary</th>\n",
       "      <th>medium_image</th>\n",
       "      <th>original_image</th>\n",
       "    </tr>\n",
       "  </thead>\n",
       "  <tbody>\n",
       "    <tr>\n",
       "      <th>0</th>\n",
       "      <td>869671</td>\n",
       "      <td>https://www.tvmaze.com/episodes/869671/westwor...</td>\n",
       "      <td>The Original</td>\n",
       "      <td>1</td>\n",
       "      <td>1</td>\n",
       "      <td>regular</td>\n",
       "      <td>2016-10-02</td>\n",
       "      <td>21:00</td>\n",
       "      <td>68</td>\n",
       "      <td>8.0</td>\n",
       "      <td>A woman named Dolores is a free spirit in the ...</td>\n",
       "      <td>https://static.tvmaze.com/uploads/images/mediu...</td>\n",
       "      <td>https://static.tvmaze.com/uploads/images/origi...</td>\n",
       "    </tr>\n",
       "    <tr>\n",
       "      <th>1</th>\n",
       "      <td>911201</td>\n",
       "      <td>https://www.tvmaze.com/episodes/911201/westwor...</td>\n",
       "      <td>Chestnut</td>\n",
       "      <td>1</td>\n",
       "      <td>2</td>\n",
       "      <td>regular</td>\n",
       "      <td>2016-10-09</td>\n",
       "      <td>21:00</td>\n",
       "      <td>60</td>\n",
       "      <td>7.7</td>\n",
       "      <td>Bernard suspects that someone is sabotaging th...</td>\n",
       "      <td>https://static.tvmaze.com/uploads/images/mediu...</td>\n",
       "      <td>https://static.tvmaze.com/uploads/images/origi...</td>\n",
       "    </tr>\n",
       "    <tr>\n",
       "      <th>2</th>\n",
       "      <td>911204</td>\n",
       "      <td>https://www.tvmaze.com/episodes/911204/westwor...</td>\n",
       "      <td>The Stray</td>\n",
       "      <td>1</td>\n",
       "      <td>3</td>\n",
       "      <td>regular</td>\n",
       "      <td>2016-10-16</td>\n",
       "      <td>21:00</td>\n",
       "      <td>60</td>\n",
       "      <td>7.6</td>\n",
       "      <td>Bernard continues to investigate Dolores' supp...</td>\n",
       "      <td>https://static.tvmaze.com/uploads/images/mediu...</td>\n",
       "      <td>https://static.tvmaze.com/uploads/images/origi...</td>\n",
       "    </tr>\n",
       "    <tr>\n",
       "      <th>3</th>\n",
       "      <td>911205</td>\n",
       "      <td>https://www.tvmaze.com/episodes/911205/westwor...</td>\n",
       "      <td>Dissonance Theory</td>\n",
       "      <td>1</td>\n",
       "      <td>4</td>\n",
       "      <td>regular</td>\n",
       "      <td>2016-10-23</td>\n",
       "      <td>21:00</td>\n",
       "      <td>60</td>\n",
       "      <td>7.9</td>\n",
       "      <td>While Dolores joins William and Logan on their...</td>\n",
       "      <td>https://static.tvmaze.com/uploads/images/mediu...</td>\n",
       "      <td>https://static.tvmaze.com/uploads/images/origi...</td>\n",
       "    </tr>\n",
       "    <tr>\n",
       "      <th>4</th>\n",
       "      <td>927174</td>\n",
       "      <td>https://www.tvmaze.com/episodes/927174/westwor...</td>\n",
       "      <td>Contrapasso</td>\n",
       "      <td>1</td>\n",
       "      <td>5</td>\n",
       "      <td>regular</td>\n",
       "      <td>2016-10-30</td>\n",
       "      <td>21:00</td>\n",
       "      <td>60</td>\n",
       "      <td>8.0</td>\n",
       "      <td>Dolores takes the first step on her path of di...</td>\n",
       "      <td>https://static.tvmaze.com/uploads/images/mediu...</td>\n",
       "      <td>https://static.tvmaze.com/uploads/images/origi...</td>\n",
       "    </tr>\n",
       "  </tbody>\n",
       "</table>\n",
       "</div>"
      ],
      "text/plain": [
       "       id                                                url   \n",
       "0  869671  https://www.tvmaze.com/episodes/869671/westwor...  \\\n",
       "1  911201  https://www.tvmaze.com/episodes/911201/westwor...   \n",
       "2  911204  https://www.tvmaze.com/episodes/911204/westwor...   \n",
       "3  911205  https://www.tvmaze.com/episodes/911205/westwor...   \n",
       "4  927174  https://www.tvmaze.com/episodes/927174/westwor...   \n",
       "\n",
       "                name  season  number     type     airdate airtime  runtime   \n",
       "0       The Original       1       1  regular  2016-10-02   21:00       68  \\\n",
       "1           Chestnut       1       2  regular  2016-10-09   21:00       60   \n",
       "2          The Stray       1       3  regular  2016-10-16   21:00       60   \n",
       "3  Dissonance Theory       1       4  regular  2016-10-23   21:00       60   \n",
       "4        Contrapasso       1       5  regular  2016-10-30   21:00       60   \n",
       "\n",
       "   average_rating                                            summary   \n",
       "0             8.0  A woman named Dolores is a free spirit in the ...  \\\n",
       "1             7.7  Bernard suspects that someone is sabotaging th...   \n",
       "2             7.6  Bernard continues to investigate Dolores' supp...   \n",
       "3             7.9  While Dolores joins William and Logan on their...   \n",
       "4             8.0  Dolores takes the first step on her path of di...   \n",
       "\n",
       "                                        medium_image   \n",
       "0  https://static.tvmaze.com/uploads/images/mediu...  \\\n",
       "1  https://static.tvmaze.com/uploads/images/mediu...   \n",
       "2  https://static.tvmaze.com/uploads/images/mediu...   \n",
       "3  https://static.tvmaze.com/uploads/images/mediu...   \n",
       "4  https://static.tvmaze.com/uploads/images/mediu...   \n",
       "\n",
       "                                      original_image  \n",
       "0  https://static.tvmaze.com/uploads/images/origi...  \n",
       "1  https://static.tvmaze.com/uploads/images/origi...  \n",
       "2  https://static.tvmaze.com/uploads/images/origi...  \n",
       "3  https://static.tvmaze.com/uploads/images/origi...  \n",
       "4  https://static.tvmaze.com/uploads/images/origi...  "
      ]
     },
     "execution_count": 127,
     "metadata": {},
     "output_type": "execute_result"
    }
   ],
   "source": [
    "data.head()"
   ]
  },
  {
   "cell_type": "code",
   "execution_count": 128,
   "metadata": {},
   "outputs": [],
   "source": [
    "# Convert the season column to numeric (if needed)\n",
    "data['season'] = pd.to_numeric(data['season'], errors='coerce')\n",
    "\n",
    "# Convert the airdate column to datetime (if needed)\n",
    "data['airdate'] = pd.to_datetime(data['airdate'], format=\"%Y-%m-%d\")\n",
    "\n",
    "# Handle missing values (if needed)\n",
    "data = data.dropna()  # Drop rows with missing values"
   ]
  },
  {
   "cell_type": "code",
   "execution_count": 130,
   "metadata": {},
   "outputs": [
    {
     "data": {
      "image/png": "[encoded data removed]",
      "text/plain": [
       "<Figure size 640x480 with 1 Axes>"
      ]
     },
     "metadata": {},
     "output_type": "display_data"
    }
   ],
   "source": [
    "season_ratings = data.groupby('season')['average_rating'].mean()\n",
    "season_ratings.plot(kind='bar')\n",
    "plt.xlabel('Season')\n",
    "plt.ylabel('Average Rating')\n",
    "plt.title('Average Ratings for Each Season')\n",
    "plt.show()"
   ]
  },
  {
   "cell_type": "code",
   "execution_count": 133,
   "metadata": {},
   "outputs": [],
   "source": [
    "high_rated_episodes = data.groupby('season')['average_rating'].mean()\n",
    "high_rated_episodes = high_rated_episodes[high_rated_episodes > 8]\n"
   ]
  },
  {
   "cell_type": "code",
   "execution_count": 134,
   "metadata": {},
   "outputs": [
    {
     "data": {
      "text/plain": [
       "season\n",
       "1    8.09\n",
       "Name: average_rating, dtype: float64"
      ]
     },
     "execution_count": 134,
     "metadata": {},
     "output_type": "execute_result"
    }
   ],
   "source": [
    "high_rated_episodes"
   ]
  },
  {
   "cell_type": "code",
   "execution_count": 136,
   "metadata": {},
   "outputs": [],
   "source": [
    "episodes_before_2019 = data[data['airdate'] < pd.Timestamp(2019, 5, 1)]['season']\n"
   ]
  },
  {
   "cell_type": "code",
   "execution_count": 137,
   "metadata": {},
   "outputs": [
    {
     "data": {
      "text/plain": [
       "0     1\n",
       "1     1\n",
       "2     1\n",
       "3     1\n",
       "4     1\n",
       "5     1\n",
       "6     1\n",
       "7     1\n",
       "8     1\n",
       "9     1\n",
       "10    2\n",
       "11    2\n",
       "12    2\n",
       "13    2\n",
       "14    2\n",
       "15    2\n",
       "16    2\n",
       "17    2\n",
       "18    2\n",
       "19    2\n",
       "Name: season, dtype: int64"
      ]
     },
     "execution_count": 137,
     "metadata": {},
     "output_type": "execute_result"
    }
   ],
   "source": [
    "episodes_before_2019"
   ]
  },
  {
   "cell_type": "code",
   "execution_count": 138,
   "metadata": {},
   "outputs": [],
   "source": [
    "highest_rated_episodes = data.groupby('season').apply(lambda x: x.loc[x['average_rating'].idxmax()])['season']\n",
    "lowest_rated_episodes = data.groupby('season').apply(lambda x: x.loc[x['average_rating'].idxmin()])['season']\n"
   ]
  },
  {
   "cell_type": "code",
   "execution_count": 139,
   "metadata": {},
   "outputs": [
    {
     "data": {
      "text/plain": [
       "season\n",
       "1    8.09\n",
       "Name: average_rating, dtype: float64"
      ]
     },
     "execution_count": 139,
     "metadata": {},
     "output_type": "execute_result"
    }
   ],
   "source": [
    "high_rated_episodes"
   ]
  },
  {
   "cell_type": "code",
   "execution_count": 140,
   "metadata": {},
   "outputs": [
    {
     "data": {
      "text/plain": [
       "season\n",
       "1    1\n",
       "2    2\n",
       "3    3\n",
       "4    4\n",
       "Name: season, dtype: int64"
      ]
     },
     "execution_count": 140,
     "metadata": {},
     "output_type": "execute_result"
    }
   ],
   "source": [
    "lowest_rated_episodes"
   ]
  },
  {
   "cell_type": "code",
   "execution_count": 142,
   "metadata": {},
   "outputs": [],
   "source": [
    "popular_episodes_summary = data.groupby('season').apply(lambda x: x.loc[x['average_rating'].idxmax()])[['season', 'summary']]\n"
   ]
  },
  {
   "cell_type": "code",
   "execution_count": 143,
   "metadata": {},
   "outputs": [
    {
     "data": {
      "text/html": [
       "<div>\n",
       "<style scoped>\n",
       "    .dataframe tbody tr th:only-of-type {\n",
       "        vertical-align: middle;\n",
       "    }\n",
       "\n",
       "    .dataframe tbody tr th {\n",
       "        vertical-align: top;\n",
       "    }\n",
       "\n",
       "    .dataframe thead th {\n",
       "        text-align: right;\n",
       "    }\n",
       "</style>\n",
       "<table border=\"1\" class=\"dataframe\">\n",
       "  <thead>\n",
       "    <tr style=\"text-align: right;\">\n",
       "      <th></th>\n",
       "      <th>season</th>\n",
       "      <th>summary</th>\n",
       "    </tr>\n",
       "    <tr>\n",
       "      <th>season</th>\n",
       "      <th></th>\n",
       "      <th></th>\n",
       "    </tr>\n",
       "  </thead>\n",
       "  <tbody>\n",
       "    <tr>\n",
       "      <th>1</th>\n",
       "      <td>1</td>\n",
       "      <td>Delores finds out the truth about William's fa...</td>\n",
       "    </tr>\n",
       "    <tr>\n",
       "      <th>2</th>\n",
       "      <td>2</td>\n",
       "      <td>Another of Westworld's Host revolutionaries is...</td>\n",
       "    </tr>\n",
       "    <tr>\n",
       "      <th>3</th>\n",
       "      <td>3</td>\n",
       "      <td>If you're stuck in a loop, try walking in a st...</td>\n",
       "    </tr>\n",
       "    <tr>\n",
       "      <th>4</th>\n",
       "      <td>4</td>\n",
       "      <td>God is bored.</td>\n",
       "    </tr>\n",
       "  </tbody>\n",
       "</table>\n",
       "</div>"
      ],
      "text/plain": [
       "        season                                            summary\n",
       "season                                                           \n",
       "1            1  Delores finds out the truth about William's fa...\n",
       "2            2  Another of Westworld's Host revolutionaries is...\n",
       "3            3  If you're stuck in a loop, try walking in a st...\n",
       "4            4                                      God is bored."
      ]
     },
     "execution_count": 143,
     "metadata": {},
     "output_type": "execute_result"
    }
   ],
   "source": [
    "popular_episodes_summary"
   ]
  },
  {
   "cell_type": "code",
   "execution_count": 145,
   "metadata": {},
   "outputs": [
    {
     "data": {
      "text/plain": [
       "'\\nWrite a program to read the data from the following link, perform data analysis and answer the following\\nquestions\\nNote -\\n1. Write code comments wherever required for code understanding\\nLink - https://data.wa.gov/api/views/f6w7-q2d2/rows.csv?accessType=DOWNLOAD\\nInsights to be drawn -\\n● Get all the cars and their types that do not qualify for clean alternative fuel vehicle\\n● Get all TESLA cars with the model year, and model type made in Bothell City.\\n● Get all the cars that have an electric range of more than 100, and were made after\\n2015\\n● Draw plots to show the distribution between city and electric vehicle type\\n'"
      ]
     },
     "execution_count": 145,
     "metadata": {},
     "output_type": "execute_result"
    }
   ],
   "source": [
    "\"\"\"\n",
    "Write a program to read the data from the following link, perform data analysis and answer the following\n",
    "questions\n",
    "Note -\n",
    "1. Write code comments wherever required for code understanding\n",
    "Link - https://data.wa.gov/api/views/f6w7-q2d2/rows.csv?accessType=DOWNLOAD\n",
    "Insights to be drawn -\n",
    "● Get all the cars and their types that do not qualify for clean alternative fuel vehicle\n",
    "● Get all TESLA cars with the model year, and model type made in Bothell City.\n",
    "● Get all the cars that have an electric range of more than 100, and were made after\n",
    "2015\n",
    "● Draw plots to show the distribution between city and electric vehicle type\n",
    "\"\"\""
   ]
  },
  {
   "cell_type": "code",
   "execution_count": 146,
   "metadata": {},
   "outputs": [],
   "source": [
    "import pandas as pd\n",
    "import matplotlib.pyplot as plt\n",
    "\n",
    "# Read the data from the URL\n",
    "url = \"https://data.wa.gov/api/views/f6w7-q2d2/rows.csv?accessType=DOWNLOAD\"\n",
    "data = pd.read_csv(url)"
   ]
  },
  {
   "cell_type": "code",
   "execution_count": 148,
   "metadata": {},
   "outputs": [
    {
     "data": {
      "text/html": [
       "<div>\n",
       "<style scoped>\n",
       "    .dataframe tbody tr th:only-of-type {\n",
       "        vertical-align: middle;\n",
       "    }\n",
       "\n",
       "    .dataframe tbody tr th {\n",
       "        vertical-align: top;\n",
       "    }\n",
       "\n",
       "    .dataframe thead th {\n",
       "        text-align: right;\n",
       "    }\n",
       "</style>\n",
       "<table border=\"1\" class=\"dataframe\">\n",
       "  <thead>\n",
       "    <tr style=\"text-align: right;\">\n",
       "      <th></th>\n",
       "      <th>VIN (1-10)</th>\n",
       "      <th>County</th>\n",
       "      <th>City</th>\n",
       "      <th>State</th>\n",
       "      <th>Postal Code</th>\n",
       "      <th>Model Year</th>\n",
       "      <th>Make</th>\n",
       "      <th>Model</th>\n",
       "      <th>Electric Vehicle Type</th>\n",
       "      <th>Clean Alternative Fuel Vehicle (CAFV) Eligibility</th>\n",
       "      <th>Electric Range</th>\n",
       "      <th>Base MSRP</th>\n",
       "      <th>Legislative District</th>\n",
       "      <th>DOL Vehicle ID</th>\n",
       "      <th>Vehicle Location</th>\n",
       "      <th>Electric Utility</th>\n",
       "      <th>2020 Census Tract</th>\n",
       "    </tr>\n",
       "  </thead>\n",
       "  <tbody>\n",
       "    <tr>\n",
       "      <th>0</th>\n",
       "      <td>5YJXCAE26J</td>\n",
       "      <td>Yakima</td>\n",
       "      <td>Yakima</td>\n",
       "      <td>WA</td>\n",
       "      <td>98908.0</td>\n",
       "      <td>2018</td>\n",
       "      <td>TESLA</td>\n",
       "      <td>MODEL X</td>\n",
       "      <td>Battery Electric Vehicle (BEV)</td>\n",
       "      <td>Clean Alternative Fuel Vehicle Eligible</td>\n",
       "      <td>238</td>\n",
       "      <td>0</td>\n",
       "      <td>14.0</td>\n",
       "      <td>141151601</td>\n",
       "      <td>POINT (-120.56916 46.58514)</td>\n",
       "      <td>PACIFICORP</td>\n",
       "      <td>5.307700e+10</td>\n",
       "    </tr>\n",
       "    <tr>\n",
       "      <th>1</th>\n",
       "      <td>JHMZC5F37M</td>\n",
       "      <td>Kitsap</td>\n",
       "      <td>Poulsbo</td>\n",
       "      <td>WA</td>\n",
       "      <td>98370.0</td>\n",
       "      <td>2021</td>\n",
       "      <td>HONDA</td>\n",
       "      <td>CLARITY</td>\n",
       "      <td>Plug-in Hybrid Electric Vehicle (PHEV)</td>\n",
       "      <td>Clean Alternative Fuel Vehicle Eligible</td>\n",
       "      <td>47</td>\n",
       "      <td>0</td>\n",
       "      <td>23.0</td>\n",
       "      <td>171566447</td>\n",
       "      <td>POINT (-122.64681 47.73689)</td>\n",
       "      <td>PUGET SOUND ENERGY INC</td>\n",
       "      <td>5.303509e+10</td>\n",
       "    </tr>\n",
       "    <tr>\n",
       "      <th>2</th>\n",
       "      <td>5YJ3E1EB0K</td>\n",
       "      <td>King</td>\n",
       "      <td>Seattle</td>\n",
       "      <td>WA</td>\n",
       "      <td>98199.0</td>\n",
       "      <td>2019</td>\n",
       "      <td>TESLA</td>\n",
       "      <td>MODEL 3</td>\n",
       "      <td>Battery Electric Vehicle (BEV)</td>\n",
       "      <td>Clean Alternative Fuel Vehicle Eligible</td>\n",
       "      <td>220</td>\n",
       "      <td>0</td>\n",
       "      <td>36.0</td>\n",
       "      <td>9426525</td>\n",
       "      <td>POINT (-122.40092 47.65908)</td>\n",
       "      <td>CITY OF SEATTLE - (WA)|CITY OF TACOMA - (WA)</td>\n",
       "      <td>5.303301e+10</td>\n",
       "    </tr>\n",
       "    <tr>\n",
       "      <th>3</th>\n",
       "      <td>1N4AZ0CP5D</td>\n",
       "      <td>King</td>\n",
       "      <td>Seattle</td>\n",
       "      <td>WA</td>\n",
       "      <td>98119.0</td>\n",
       "      <td>2013</td>\n",
       "      <td>NISSAN</td>\n",
       "      <td>LEAF</td>\n",
       "      <td>Battery Electric Vehicle (BEV)</td>\n",
       "      <td>Clean Alternative Fuel Vehicle Eligible</td>\n",
       "      <td>75</td>\n",
       "      <td>0</td>\n",
       "      <td>36.0</td>\n",
       "      <td>211807760</td>\n",
       "      <td>POINT (-122.3684 47.64586)</td>\n",
       "      <td>CITY OF SEATTLE - (WA)|CITY OF TACOMA - (WA)</td>\n",
       "      <td>5.303301e+10</td>\n",
       "    </tr>\n",
       "    <tr>\n",
       "      <th>4</th>\n",
       "      <td>5YJSA1E21H</td>\n",
       "      <td>Thurston</td>\n",
       "      <td>Lacey</td>\n",
       "      <td>WA</td>\n",
       "      <td>98516.0</td>\n",
       "      <td>2017</td>\n",
       "      <td>TESLA</td>\n",
       "      <td>MODEL S</td>\n",
       "      <td>Battery Electric Vehicle (BEV)</td>\n",
       "      <td>Clean Alternative Fuel Vehicle Eligible</td>\n",
       "      <td>210</td>\n",
       "      <td>0</td>\n",
       "      <td>22.0</td>\n",
       "      <td>185810306</td>\n",
       "      <td>POINT (-122.75379 47.06316)</td>\n",
       "      <td>PUGET SOUND ENERGY INC</td>\n",
       "      <td>5.306701e+10</td>\n",
       "    </tr>\n",
       "  </tbody>\n",
       "</table>\n",
       "</div>"
      ],
      "text/plain": [
       "   VIN (1-10)    County     City State  Postal Code  Model Year    Make   \n",
       "0  5YJXCAE26J    Yakima   Yakima    WA      98908.0        2018   TESLA  \\\n",
       "1  JHMZC5F37M    Kitsap  Poulsbo    WA      98370.0        2021   HONDA   \n",
       "2  5YJ3E1EB0K      King  Seattle    WA      98199.0        2019   TESLA   \n",
       "3  1N4AZ0CP5D      King  Seattle    WA      98119.0        2013  NISSAN   \n",
       "4  5YJSA1E21H  Thurston    Lacey    WA      98516.0        2017   TESLA   \n",
       "\n",
       "     Model                   Electric Vehicle Type   \n",
       "0  MODEL X          Battery Electric Vehicle (BEV)  \\\n",
       "1  CLARITY  Plug-in Hybrid Electric Vehicle (PHEV)   \n",
       "2  MODEL 3          Battery Electric Vehicle (BEV)   \n",
       "3     LEAF          Battery Electric Vehicle (BEV)   \n",
       "4  MODEL S          Battery Electric Vehicle (BEV)   \n",
       "\n",
       "  Clean Alternative Fuel Vehicle (CAFV) Eligibility  Electric Range   \n",
       "0           Clean Alternative Fuel Vehicle Eligible             238  \\\n",
       "1           Clean Alternative Fuel Vehicle Eligible              47   \n",
       "2           Clean Alternative Fuel Vehicle Eligible             220   \n",
       "3           Clean Alternative Fuel Vehicle Eligible              75   \n",
       "4           Clean Alternative Fuel Vehicle Eligible             210   \n",
       "\n",
       "   Base MSRP  Legislative District  DOL Vehicle ID   \n",
       "0          0                  14.0       141151601  \\\n",
       "1          0                  23.0       171566447   \n",
       "2          0                  36.0         9426525   \n",
       "3          0                  36.0       211807760   \n",
       "4          0                  22.0       185810306   \n",
       "\n",
       "              Vehicle Location                              Electric Utility   \n",
       "0  POINT (-120.56916 46.58514)                                    PACIFICORP  \\\n",
       "1  POINT (-122.64681 47.73689)                        PUGET SOUND ENERGY INC   \n",
       "2  POINT (-122.40092 47.65908)  CITY OF SEATTLE - (WA)|CITY OF TACOMA - (WA)   \n",
       "3   POINT (-122.3684 47.64586)  CITY OF SEATTLE - (WA)|CITY OF TACOMA - (WA)   \n",
       "4  POINT (-122.75379 47.06316)                        PUGET SOUND ENERGY INC   \n",
       "\n",
       "   2020 Census Tract  \n",
       "0       5.307700e+10  \n",
       "1       5.303509e+10  \n",
       "2       5.303301e+10  \n",
       "3       5.303301e+10  \n",
       "4       5.306701e+10  "
      ]
     },
     "execution_count": 148,
     "metadata": {},
     "output_type": "execute_result"
    }
   ],
   "source": [
    "data.head()"
   ]
  },
  {
   "cell_type": "code",
   "execution_count": 153,
   "metadata": {},
   "outputs": [],
   "source": [
    "# Get all the cars and their types that do not qualify for clean alternative fuel vehicle\n",
    "non_clean_fuel_cars = data[data['Clean Alternative Fuel Vehicle (CAFV) Eligibility'] == 'Yes'][[\"Make\", \"Model\" ,\"Electric Vehicle Type\"]]"
   ]
  },
  {
   "cell_type": "code",
   "execution_count": 154,
   "metadata": {},
   "outputs": [
    {
     "data": {
      "text/html": [
       "<div>\n",
       "<style scoped>\n",
       "    .dataframe tbody tr th:only-of-type {\n",
       "        vertical-align: middle;\n",
       "    }\n",
       "\n",
       "    .dataframe tbody tr th {\n",
       "        vertical-align: top;\n",
       "    }\n",
       "\n",
       "    .dataframe thead th {\n",
       "        text-align: right;\n",
       "    }\n",
       "</style>\n",
       "<table border=\"1\" class=\"dataframe\">\n",
       "  <thead>\n",
       "    <tr style=\"text-align: right;\">\n",
       "      <th></th>\n",
       "      <th>Make</th>\n",
       "      <th>Model</th>\n",
       "      <th>Electric Vehicle Type</th>\n",
       "    </tr>\n",
       "  </thead>\n",
       "  <tbody>\n",
       "  </tbody>\n",
       "</table>\n",
       "</div>"
      ],
      "text/plain": [
       "Empty DataFrame\n",
       "Columns: [Make, Model, Electric Vehicle Type]\n",
       "Index: []"
      ]
     },
     "execution_count": 154,
     "metadata": {},
     "output_type": "execute_result"
    }
   ],
   "source": [
    "non_clean_fuel_cars"
   ]
  },
  {
   "cell_type": "code",
   "execution_count": 156,
   "metadata": {},
   "outputs": [],
   "source": [
    "#  Get all TESLA cars with the model year and model type made in Bothell City\n",
    "tesla_cars_in_bothell = data[(data['Make'] == 'TESLA') & (data['City'] == 'BOTHELL')][['Model Year', 'Electric Vehicle Type']]"
   ]
  },
  {
   "cell_type": "code",
   "execution_count": 157,
   "metadata": {},
   "outputs": [
    {
     "data": {
      "text/html": [
       "<div>\n",
       "<style scoped>\n",
       "    .dataframe tbody tr th:only-of-type {\n",
       "        vertical-align: middle;\n",
       "    }\n",
       "\n",
       "    .dataframe tbody tr th {\n",
       "        vertical-align: top;\n",
       "    }\n",
       "\n",
       "    .dataframe thead th {\n",
       "        text-align: right;\n",
       "    }\n",
       "</style>\n",
       "<table border=\"1\" class=\"dataframe\">\n",
       "  <thead>\n",
       "    <tr style=\"text-align: right;\">\n",
       "      <th></th>\n",
       "      <th>Model Year</th>\n",
       "      <th>Electric Vehicle Type</th>\n",
       "    </tr>\n",
       "  </thead>\n",
       "  <tbody>\n",
       "  </tbody>\n",
       "</table>\n",
       "</div>"
      ],
      "text/plain": [
       "Empty DataFrame\n",
       "Columns: [Model Year, Electric Vehicle Type]\n",
       "Index: []"
      ]
     },
     "execution_count": 157,
     "metadata": {},
     "output_type": "execute_result"
    }
   ],
   "source": [
    "tesla_cars_in_bothell"
   ]
  },
  {
   "cell_type": "code",
   "execution_count": 159,
   "metadata": {},
   "outputs": [],
   "source": [
    "# Get all the cars that have an electric range of more than 100 and were made after 2015\n",
    "cars_with_electric_range = data[(data['Electric Range'] > 100) & (data['Model Year'] > 2015)]"
   ]
  },
  {
   "cell_type": "code",
   "execution_count": 160,
   "metadata": {},
   "outputs": [
    {
     "data": {
      "text/html": [
       "<div>\n",
       "<style scoped>\n",
       "    .dataframe tbody tr th:only-of-type {\n",
       "        vertical-align: middle;\n",
       "    }\n",
       "\n",
       "    .dataframe tbody tr th {\n",
       "        vertical-align: top;\n",
       "    }\n",
       "\n",
       "    .dataframe thead th {\n",
       "        text-align: right;\n",
       "    }\n",
       "</style>\n",
       "<table border=\"1\" class=\"dataframe\">\n",
       "  <thead>\n",
       "    <tr style=\"text-align: right;\">\n",
       "      <th></th>\n",
       "      <th>VIN (1-10)</th>\n",
       "      <th>County</th>\n",
       "      <th>City</th>\n",
       "      <th>State</th>\n",
       "      <th>Postal Code</th>\n",
       "      <th>Model Year</th>\n",
       "      <th>Make</th>\n",
       "      <th>Model</th>\n",
       "      <th>Electric Vehicle Type</th>\n",
       "      <th>Clean Alternative Fuel Vehicle (CAFV) Eligibility</th>\n",
       "      <th>Electric Range</th>\n",
       "      <th>Base MSRP</th>\n",
       "      <th>Legislative District</th>\n",
       "      <th>DOL Vehicle ID</th>\n",
       "      <th>Vehicle Location</th>\n",
       "      <th>Electric Utility</th>\n",
       "      <th>2020 Census Tract</th>\n",
       "    </tr>\n",
       "  </thead>\n",
       "  <tbody>\n",
       "    <tr>\n",
       "      <th>0</th>\n",
       "      <td>5YJXCAE26J</td>\n",
       "      <td>Yakima</td>\n",
       "      <td>Yakima</td>\n",
       "      <td>WA</td>\n",
       "      <td>98908.0</td>\n",
       "      <td>2018</td>\n",
       "      <td>TESLA</td>\n",
       "      <td>MODEL X</td>\n",
       "      <td>Battery Electric Vehicle (BEV)</td>\n",
       "      <td>Clean Alternative Fuel Vehicle Eligible</td>\n",
       "      <td>238</td>\n",
       "      <td>0</td>\n",
       "      <td>14.0</td>\n",
       "      <td>141151601</td>\n",
       "      <td>POINT (-120.56916 46.58514)</td>\n",
       "      <td>PACIFICORP</td>\n",
       "      <td>5.307700e+10</td>\n",
       "    </tr>\n",
       "    <tr>\n",
       "      <th>2</th>\n",
       "      <td>5YJ3E1EB0K</td>\n",
       "      <td>King</td>\n",
       "      <td>Seattle</td>\n",
       "      <td>WA</td>\n",
       "      <td>98199.0</td>\n",
       "      <td>2019</td>\n",
       "      <td>TESLA</td>\n",
       "      <td>MODEL 3</td>\n",
       "      <td>Battery Electric Vehicle (BEV)</td>\n",
       "      <td>Clean Alternative Fuel Vehicle Eligible</td>\n",
       "      <td>220</td>\n",
       "      <td>0</td>\n",
       "      <td>36.0</td>\n",
       "      <td>9426525</td>\n",
       "      <td>POINT (-122.40092 47.65908)</td>\n",
       "      <td>CITY OF SEATTLE - (WA)|CITY OF TACOMA - (WA)</td>\n",
       "      <td>5.303301e+10</td>\n",
       "    </tr>\n",
       "    <tr>\n",
       "      <th>4</th>\n",
       "      <td>5YJSA1E21H</td>\n",
       "      <td>Thurston</td>\n",
       "      <td>Lacey</td>\n",
       "      <td>WA</td>\n",
       "      <td>98516.0</td>\n",
       "      <td>2017</td>\n",
       "      <td>TESLA</td>\n",
       "      <td>MODEL S</td>\n",
       "      <td>Battery Electric Vehicle (BEV)</td>\n",
       "      <td>Clean Alternative Fuel Vehicle Eligible</td>\n",
       "      <td>210</td>\n",
       "      <td>0</td>\n",
       "      <td>22.0</td>\n",
       "      <td>185810306</td>\n",
       "      <td>POINT (-122.75379 47.06316)</td>\n",
       "      <td>PUGET SOUND ENERGY INC</td>\n",
       "      <td>5.306701e+10</td>\n",
       "    </tr>\n",
       "    <tr>\n",
       "      <th>12</th>\n",
       "      <td>5YJ3E1EC7L</td>\n",
       "      <td>Thurston</td>\n",
       "      <td>Lacey</td>\n",
       "      <td>WA</td>\n",
       "      <td>98503.0</td>\n",
       "      <td>2020</td>\n",
       "      <td>TESLA</td>\n",
       "      <td>MODEL 3</td>\n",
       "      <td>Battery Electric Vehicle (BEV)</td>\n",
       "      <td>Clean Alternative Fuel Vehicle Eligible</td>\n",
       "      <td>308</td>\n",
       "      <td>0</td>\n",
       "      <td>22.0</td>\n",
       "      <td>2135486</td>\n",
       "      <td>POINT (-122.82324 47.04437)</td>\n",
       "      <td>PUGET SOUND ENERGY INC</td>\n",
       "      <td>5.306701e+10</td>\n",
       "    </tr>\n",
       "    <tr>\n",
       "      <th>13</th>\n",
       "      <td>5YJ3E1EB2L</td>\n",
       "      <td>Thurston</td>\n",
       "      <td>Olympia</td>\n",
       "      <td>WA</td>\n",
       "      <td>98516.0</td>\n",
       "      <td>2020</td>\n",
       "      <td>TESLA</td>\n",
       "      <td>MODEL 3</td>\n",
       "      <td>Battery Electric Vehicle (BEV)</td>\n",
       "      <td>Clean Alternative Fuel Vehicle Eligible</td>\n",
       "      <td>322</td>\n",
       "      <td>0</td>\n",
       "      <td>22.0</td>\n",
       "      <td>124645363</td>\n",
       "      <td>POINT (-122.75379 47.06316)</td>\n",
       "      <td>PUGET SOUND ENERGY INC</td>\n",
       "      <td>5.306701e+10</td>\n",
       "    </tr>\n",
       "    <tr>\n",
       "      <th>...</th>\n",
       "      <td>...</td>\n",
       "      <td>...</td>\n",
       "      <td>...</td>\n",
       "      <td>...</td>\n",
       "      <td>...</td>\n",
       "      <td>...</td>\n",
       "      <td>...</td>\n",
       "      <td>...</td>\n",
       "      <td>...</td>\n",
       "      <td>...</td>\n",
       "      <td>...</td>\n",
       "      <td>...</td>\n",
       "      <td>...</td>\n",
       "      <td>...</td>\n",
       "      <td>...</td>\n",
       "      <td>...</td>\n",
       "      <td>...</td>\n",
       "    </tr>\n",
       "    <tr>\n",
       "      <th>130417</th>\n",
       "      <td>5YJYGDEE5L</td>\n",
       "      <td>Pierce</td>\n",
       "      <td>Tacoma</td>\n",
       "      <td>WA</td>\n",
       "      <td>98444.0</td>\n",
       "      <td>2020</td>\n",
       "      <td>TESLA</td>\n",
       "      <td>MODEL Y</td>\n",
       "      <td>Battery Electric Vehicle (BEV)</td>\n",
       "      <td>Clean Alternative Fuel Vehicle Eligible</td>\n",
       "      <td>291</td>\n",
       "      <td>0</td>\n",
       "      <td>29.0</td>\n",
       "      <td>112591538</td>\n",
       "      <td>POINT (-122.46495 47.16778)</td>\n",
       "      <td>BONNEVILLE POWER ADMINISTRATION||CITY OF TACOM...</td>\n",
       "      <td>5.305306e+10</td>\n",
       "    </tr>\n",
       "    <tr>\n",
       "      <th>130428</th>\n",
       "      <td>1N4AZ1CP0J</td>\n",
       "      <td>Clallam</td>\n",
       "      <td>Sequim</td>\n",
       "      <td>WA</td>\n",
       "      <td>98382.0</td>\n",
       "      <td>2018</td>\n",
       "      <td>NISSAN</td>\n",
       "      <td>LEAF</td>\n",
       "      <td>Battery Electric Vehicle (BEV)</td>\n",
       "      <td>Clean Alternative Fuel Vehicle Eligible</td>\n",
       "      <td>151</td>\n",
       "      <td>0</td>\n",
       "      <td>24.0</td>\n",
       "      <td>290405174</td>\n",
       "      <td>POINT (-123.09968999999995 48.08137000000005)</td>\n",
       "      <td>BONNEVILLE POWER ADMINISTRATION||PUD NO 1 OF C...</td>\n",
       "      <td>5.300900e+10</td>\n",
       "    </tr>\n",
       "    <tr>\n",
       "      <th>130432</th>\n",
       "      <td>5YJYGDEEXL</td>\n",
       "      <td>King</td>\n",
       "      <td>Vashon</td>\n",
       "      <td>WA</td>\n",
       "      <td>98070.0</td>\n",
       "      <td>2020</td>\n",
       "      <td>TESLA</td>\n",
       "      <td>MODEL Y</td>\n",
       "      <td>Battery Electric Vehicle (BEV)</td>\n",
       "      <td>Clean Alternative Fuel Vehicle Eligible</td>\n",
       "      <td>291</td>\n",
       "      <td>0</td>\n",
       "      <td>34.0</td>\n",
       "      <td>112734723</td>\n",
       "      <td>POINT (-122.4573 47.44929)</td>\n",
       "      <td>PUGET SOUND ENERGY INC||CITY OF TACOMA - (WA)</td>\n",
       "      <td>5.303303e+10</td>\n",
       "    </tr>\n",
       "    <tr>\n",
       "      <th>130436</th>\n",
       "      <td>5YJ3E1EB0J</td>\n",
       "      <td>Whatcom</td>\n",
       "      <td>Blaine</td>\n",
       "      <td>WA</td>\n",
       "      <td>98230.0</td>\n",
       "      <td>2018</td>\n",
       "      <td>TESLA</td>\n",
       "      <td>MODEL 3</td>\n",
       "      <td>Battery Electric Vehicle (BEV)</td>\n",
       "      <td>Clean Alternative Fuel Vehicle Eligible</td>\n",
       "      <td>215</td>\n",
       "      <td>0</td>\n",
       "      <td>42.0</td>\n",
       "      <td>103521302</td>\n",
       "      <td>POINT (-122.74888 48.99404)</td>\n",
       "      <td>PUGET SOUND ENERGY INC||PUD NO 1 OF WHATCOM CO...</td>\n",
       "      <td>5.307301e+10</td>\n",
       "    </tr>\n",
       "    <tr>\n",
       "      <th>130441</th>\n",
       "      <td>5YJXCBE22L</td>\n",
       "      <td>Island</td>\n",
       "      <td>Camano Island</td>\n",
       "      <td>WA</td>\n",
       "      <td>98282.0</td>\n",
       "      <td>2020</td>\n",
       "      <td>TESLA</td>\n",
       "      <td>MODEL X</td>\n",
       "      <td>Battery Electric Vehicle (BEV)</td>\n",
       "      <td>Clean Alternative Fuel Vehicle Eligible</td>\n",
       "      <td>293</td>\n",
       "      <td>0</td>\n",
       "      <td>10.0</td>\n",
       "      <td>102834938</td>\n",
       "      <td>POINT (-122.40049 48.23986)</td>\n",
       "      <td>BONNEVILLE POWER ADMINISTRATION||PUD 1 OF SNOH...</td>\n",
       "      <td>5.302997e+10</td>\n",
       "    </tr>\n",
       "  </tbody>\n",
       "</table>\n",
       "<p>34066 rows × 17 columns</p>\n",
       "</div>"
      ],
      "text/plain": [
       "        VIN (1-10)    County           City State  Postal Code  Model Year   \n",
       "0       5YJXCAE26J    Yakima         Yakima    WA      98908.0        2018  \\\n",
       "2       5YJ3E1EB0K      King        Seattle    WA      98199.0        2019   \n",
       "4       5YJSA1E21H  Thurston          Lacey    WA      98516.0        2017   \n",
       "12      5YJ3E1EC7L  Thurston          Lacey    WA      98503.0        2020   \n",
       "13      5YJ3E1EB2L  Thurston        Olympia    WA      98516.0        2020   \n",
       "...            ...       ...            ...   ...          ...         ...   \n",
       "130417  5YJYGDEE5L    Pierce         Tacoma    WA      98444.0        2020   \n",
       "130428  1N4AZ1CP0J   Clallam         Sequim    WA      98382.0        2018   \n",
       "130432  5YJYGDEEXL      King         Vashon    WA      98070.0        2020   \n",
       "130436  5YJ3E1EB0J   Whatcom         Blaine    WA      98230.0        2018   \n",
       "130441  5YJXCBE22L    Island  Camano Island    WA      98282.0        2020   \n",
       "\n",
       "          Make    Model           Electric Vehicle Type   \n",
       "0        TESLA  MODEL X  Battery Electric Vehicle (BEV)  \\\n",
       "2        TESLA  MODEL 3  Battery Electric Vehicle (BEV)   \n",
       "4        TESLA  MODEL S  Battery Electric Vehicle (BEV)   \n",
       "12       TESLA  MODEL 3  Battery Electric Vehicle (BEV)   \n",
       "13       TESLA  MODEL 3  Battery Electric Vehicle (BEV)   \n",
       "...        ...      ...                             ...   \n",
       "130417   TESLA  MODEL Y  Battery Electric Vehicle (BEV)   \n",
       "130428  NISSAN     LEAF  Battery Electric Vehicle (BEV)   \n",
       "130432   TESLA  MODEL Y  Battery Electric Vehicle (BEV)   \n",
       "130436   TESLA  MODEL 3  Battery Electric Vehicle (BEV)   \n",
       "130441   TESLA  MODEL X  Battery Electric Vehicle (BEV)   \n",
       "\n",
       "       Clean Alternative Fuel Vehicle (CAFV) Eligibility  Electric Range   \n",
       "0                Clean Alternative Fuel Vehicle Eligible             238  \\\n",
       "2                Clean Alternative Fuel Vehicle Eligible             220   \n",
       "4                Clean Alternative Fuel Vehicle Eligible             210   \n",
       "12               Clean Alternative Fuel Vehicle Eligible             308   \n",
       "13               Clean Alternative Fuel Vehicle Eligible             322   \n",
       "...                                                  ...             ...   \n",
       "130417           Clean Alternative Fuel Vehicle Eligible             291   \n",
       "130428           Clean Alternative Fuel Vehicle Eligible             151   \n",
       "130432           Clean Alternative Fuel Vehicle Eligible             291   \n",
       "130436           Clean Alternative Fuel Vehicle Eligible             215   \n",
       "130441           Clean Alternative Fuel Vehicle Eligible             293   \n",
       "\n",
       "        Base MSRP  Legislative District  DOL Vehicle ID   \n",
       "0               0                  14.0       141151601  \\\n",
       "2               0                  36.0         9426525   \n",
       "4               0                  22.0       185810306   \n",
       "12              0                  22.0         2135486   \n",
       "13              0                  22.0       124645363   \n",
       "...           ...                   ...             ...   \n",
       "130417          0                  29.0       112591538   \n",
       "130428          0                  24.0       290405174   \n",
       "130432          0                  34.0       112734723   \n",
       "130436          0                  42.0       103521302   \n",
       "130441          0                  10.0       102834938   \n",
       "\n",
       "                                     Vehicle Location   \n",
       "0                         POINT (-120.56916 46.58514)  \\\n",
       "2                         POINT (-122.40092 47.65908)   \n",
       "4                         POINT (-122.75379 47.06316)   \n",
       "12                        POINT (-122.82324 47.04437)   \n",
       "13                        POINT (-122.75379 47.06316)   \n",
       "...                                               ...   \n",
       "130417                    POINT (-122.46495 47.16778)   \n",
       "130428  POINT (-123.09968999999995 48.08137000000005)   \n",
       "130432                     POINT (-122.4573 47.44929)   \n",
       "130436                    POINT (-122.74888 48.99404)   \n",
       "130441                    POINT (-122.40049 48.23986)   \n",
       "\n",
       "                                         Electric Utility  2020 Census Tract  \n",
       "0                                              PACIFICORP       5.307700e+10  \n",
       "2            CITY OF SEATTLE - (WA)|CITY OF TACOMA - (WA)       5.303301e+10  \n",
       "4                                  PUGET SOUND ENERGY INC       5.306701e+10  \n",
       "12                                 PUGET SOUND ENERGY INC       5.306701e+10  \n",
       "13                                 PUGET SOUND ENERGY INC       5.306701e+10  \n",
       "...                                                   ...                ...  \n",
       "130417  BONNEVILLE POWER ADMINISTRATION||CITY OF TACOM...       5.305306e+10  \n",
       "130428  BONNEVILLE POWER ADMINISTRATION||PUD NO 1 OF C...       5.300900e+10  \n",
       "130432      PUGET SOUND ENERGY INC||CITY OF TACOMA - (WA)       5.303303e+10  \n",
       "130436  PUGET SOUND ENERGY INC||PUD NO 1 OF WHATCOM CO...       5.307301e+10  \n",
       "130441  BONNEVILLE POWER ADMINISTRATION||PUD 1 OF SNOH...       5.302997e+10  \n",
       "\n",
       "[34066 rows x 17 columns]"
      ]
     },
     "execution_count": 160,
     "metadata": {},
     "output_type": "execute_result"
    }
   ],
   "source": [
    "cars_with_electric_range"
   ]
  },
  {
   "cell_type": "code",
   "execution_count": 161,
   "metadata": {},
   "outputs": [
    {
     "data": {
      "image/png": "[encoded data removed]",
      "text/plain": [
       "<Figure size 640x480 with 1 Axes>"
      ]
     },
     "metadata": {},
     "output_type": "display_data"
    }
   ],
   "source": [
    "city_ev_type_counts = data.groupby(['City', 'Electric Vehicle Type']).size().unstack()\n",
    "city_ev_type_counts.plot(kind='bar', stacked=True)\n",
    "plt.xlabel('City')\n",
    "plt.ylabel('Count')\n",
    "plt.title('Distribution of Electric Vehicle Types by City')\n",
    "\n",
    "plt.show()"
   ]
  },
  {
   "cell_type": "code",
   "execution_count": 164,
   "metadata": {},
   "outputs": [
    {
     "name": "stdout",
     "output_type": "stream",
     "text": [
      "{'Verbs': 0, 'Nouns': 0, 'Pronouns': 0, 'Adjectives': 0}\n",
      "{'Verbs': 0, 'Nouns': 0, 'Pronouns': 0, 'Adjectives': 0}\n"
     ]
    }
   ],
   "source": [
    "def count_pos_tags(text):\n",
    "    # Define lists of part-of-speech tags for each category\n",
    "    verbs = ['VB', 'VBD', 'VBG', 'VBN', 'VBP', 'VBZ']\n",
    "    nouns = ['NN', 'NNS', 'NNP', 'NNPS']\n",
    "    pronouns = ['PRP', 'PRP$', 'WP', 'WP$']\n",
    "    adjectives = ['JJ', 'JJR', 'JJS']\n",
    "    \n",
    "    # Tokenize the text into words\n",
    "    words = text.split()\n",
    "    \n",
    "    # Initialize count variables\n",
    "    verb_count = 0\n",
    "    noun_count = 0\n",
    "    pronoun_count = 0\n",
    "    adjective_count = 0\n",
    "    \n",
    "    # Count the number of each part-of-speech category\n",
    "    for word in words:\n",
    "        # Convert the word to lowercase for comparison\n",
    "        word_lower = word.lower()\n",
    "        \n",
    "        if word_lower in verbs:\n",
    "            verb_count += 1\n",
    "        elif word_lower in nouns:\n",
    "            noun_count += 1\n",
    "        elif word_lower in pronouns:\n",
    "            pronoun_count += 1\n",
    "        elif word_lower in adjectives:\n",
    "            adjective_count += 1\n",
    "    \n",
    "    # Create a dictionary with the counts\n",
    "    pos_counts = {\n",
    "        'Verbs': verb_count,\n",
    "        'Nouns': noun_count,\n",
    "        'Pronouns': pronoun_count,\n",
    "        'Adjectives': adjective_count\n",
    "    }\n",
    "    \n",
    "    return pos_counts\n",
    "\n",
    "# Test case 1\n",
    "text1 = \"The cat is sitting on the mat.\"\n",
    "result1 = count_pos_tags(text1)\n",
    "print(result1)\n",
    "# Output: {'Verbs': 1, 'Nouns': 2, 'Pronouns': 0, 'Adjectives': 1}\n",
    "\n",
    "# Test case 2\n",
    "text2 = \"I love eating delicious pizza.\"\n",
    "result2 = count_pos_tags(text2)\n",
    "print(result2)\n",
    "# Output: {'Verbs': 1, 'Nouns': 1, 'Pronouns': 1, 'Adjectives': 1}\n"
   ]
  },
  {
   "cell_type": "code",
   "execution_count": 165,
   "metadata": {},
   "outputs": [
    {
     "data": {
      "text/plain": [
       "'\\nStats\\n'"
      ]
     },
     "execution_count": 165,
     "metadata": {},
     "output_type": "execute_result"
    }
   ],
   "source": [
    "\"\"\"\n",
    "Stats\n",
    "\"\"\""
   ]
  },
  {
   "cell_type": "code",
   "execution_count": 166,
   "metadata": {},
   "outputs": [
    {
     "data": {
      "text/plain": [
       "'\\nQ-1. A university wants to understand the relationship between the SAT scores of its\\napplicants and their college GPA. They collect data on 500 students, including their SAT\\nscores (out of 1600) and their college GPA (on a 4.0 scale). They find that the correlation\\ncoefficient between SAT scores and college GPA is 0.7. What does this correlation\\ncoefficient indicate about the relationship between SAT scores and college GPA?\\n'"
      ]
     },
     "execution_count": 166,
     "metadata": {},
     "output_type": "execute_result"
    }
   ],
   "source": [
    "\"\"\"\n",
    "Q-1. A university wants to understand the relationship between the SAT scores of its\n",
    "applicants and their college GPA. They collect data on 500 students, including their SAT\n",
    "scores (out of 1600) and their college GPA (on a 4.0 scale). They find that the correlation\n",
    "coefficient between SAT scores and college GPA is 0.7. What does this correlation\n",
    "coefficient indicate about the relationship between SAT scores and college GPA?\n",
    "\"\"\""
   ]
  },
  {
   "cell_type": "code",
   "execution_count": null,
   "metadata": {},
   "outputs": [],
   "source": []
  }
 ],
 "metadata": {
  "kernelspec": {
   "display_name": "Python 3.8.10 64-bit",
   "language": "python",
   "name": "python3"
  },
  "language_info": {
   "codemirror_mode": {
    "name": "ipython",
    "version": 3
   },
   "file_extension": ".py",
   "mimetype": "text/x-python",
   "name": "python",
   "nbconvert_exporter": "python",
   "pygments_lexer": "ipython3",
   "version": "3.8.10"
  },
  "orig_nbformat": 4,
  "vscode": {
   "interpreter": {
    "hash": "e7370f93d1d0cde622a1f8e1c04877d8463912d04d973331ad4851f04de6915a"
   }
  }
 },
 "nbformat": 4,
 "nbformat_minor": 2
}
