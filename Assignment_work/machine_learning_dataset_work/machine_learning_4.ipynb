{
 "cells": [
  {
   "cell_type": "code",
   "execution_count": 1,
   "metadata": {},
   "outputs": [],
   "source": [
    "import pandas as pd"
   ]
  },
  {
   "cell_type": "code",
   "execution_count": 3,
   "metadata": {},
   "outputs": [],
   "source": [
    "df=pd.read_csv(\"/config/workspace/machine datasets/online_shoppers_intention.csv\")"
   ]
  },
  {
   "cell_type": "code",
   "execution_count": 4,
   "metadata": {},
   "outputs": [
    {
     "data": {
      "text/html": [
       "<div>\n",
       "<style scoped>\n",
       "    .dataframe tbody tr th:only-of-type {\n",
       "        vertical-align: middle;\n",
       "    }\n",
       "\n",
       "    .dataframe tbody tr th {\n",
       "        vertical-align: top;\n",
       "    }\n",
       "\n",
       "    .dataframe thead th {\n",
       "        text-align: right;\n",
       "    }\n",
       "</style>\n",
       "<table border=\"1\" class=\"dataframe\">\n",
       "  <thead>\n",
       "    <tr style=\"text-align: right;\">\n",
       "      <th></th>\n",
       "      <th>Administrative</th>\n",
       "      <th>Administrative_Duration</th>\n",
       "      <th>Informational</th>\n",
       "      <th>Informational_Duration</th>\n",
       "      <th>ProductRelated</th>\n",
       "      <th>ProductRelated_Duration</th>\n",
       "      <th>BounceRates</th>\n",
       "      <th>ExitRates</th>\n",
       "      <th>PageValues</th>\n",
       "      <th>SpecialDay</th>\n",
       "      <th>Month</th>\n",
       "      <th>OperatingSystems</th>\n",
       "      <th>Browser</th>\n",
       "      <th>Region</th>\n",
       "      <th>TrafficType</th>\n",
       "      <th>VisitorType</th>\n",
       "      <th>Weekend</th>\n",
       "      <th>Revenue</th>\n",
       "    </tr>\n",
       "  </thead>\n",
       "  <tbody>\n",
       "    <tr>\n",
       "      <th>0</th>\n",
       "      <td>0</td>\n",
       "      <td>0.0</td>\n",
       "      <td>0</td>\n",
       "      <td>0.0</td>\n",
       "      <td>1</td>\n",
       "      <td>0.000000</td>\n",
       "      <td>0.20</td>\n",
       "      <td>0.20</td>\n",
       "      <td>0.0</td>\n",
       "      <td>0.0</td>\n",
       "      <td>Feb</td>\n",
       "      <td>1</td>\n",
       "      <td>1</td>\n",
       "      <td>1</td>\n",
       "      <td>1</td>\n",
       "      <td>Returning_Visitor</td>\n",
       "      <td>False</td>\n",
       "      <td>False</td>\n",
       "    </tr>\n",
       "    <tr>\n",
       "      <th>1</th>\n",
       "      <td>0</td>\n",
       "      <td>0.0</td>\n",
       "      <td>0</td>\n",
       "      <td>0.0</td>\n",
       "      <td>2</td>\n",
       "      <td>64.000000</td>\n",
       "      <td>0.00</td>\n",
       "      <td>0.10</td>\n",
       "      <td>0.0</td>\n",
       "      <td>0.0</td>\n",
       "      <td>Feb</td>\n",
       "      <td>2</td>\n",
       "      <td>2</td>\n",
       "      <td>1</td>\n",
       "      <td>2</td>\n",
       "      <td>Returning_Visitor</td>\n",
       "      <td>False</td>\n",
       "      <td>False</td>\n",
       "    </tr>\n",
       "    <tr>\n",
       "      <th>2</th>\n",
       "      <td>0</td>\n",
       "      <td>0.0</td>\n",
       "      <td>0</td>\n",
       "      <td>0.0</td>\n",
       "      <td>1</td>\n",
       "      <td>0.000000</td>\n",
       "      <td>0.20</td>\n",
       "      <td>0.20</td>\n",
       "      <td>0.0</td>\n",
       "      <td>0.0</td>\n",
       "      <td>Feb</td>\n",
       "      <td>4</td>\n",
       "      <td>1</td>\n",
       "      <td>9</td>\n",
       "      <td>3</td>\n",
       "      <td>Returning_Visitor</td>\n",
       "      <td>False</td>\n",
       "      <td>False</td>\n",
       "    </tr>\n",
       "    <tr>\n",
       "      <th>3</th>\n",
       "      <td>0</td>\n",
       "      <td>0.0</td>\n",
       "      <td>0</td>\n",
       "      <td>0.0</td>\n",
       "      <td>2</td>\n",
       "      <td>2.666667</td>\n",
       "      <td>0.05</td>\n",
       "      <td>0.14</td>\n",
       "      <td>0.0</td>\n",
       "      <td>0.0</td>\n",
       "      <td>Feb</td>\n",
       "      <td>3</td>\n",
       "      <td>2</td>\n",
       "      <td>2</td>\n",
       "      <td>4</td>\n",
       "      <td>Returning_Visitor</td>\n",
       "      <td>False</td>\n",
       "      <td>False</td>\n",
       "    </tr>\n",
       "    <tr>\n",
       "      <th>4</th>\n",
       "      <td>0</td>\n",
       "      <td>0.0</td>\n",
       "      <td>0</td>\n",
       "      <td>0.0</td>\n",
       "      <td>10</td>\n",
       "      <td>627.500000</td>\n",
       "      <td>0.02</td>\n",
       "      <td>0.05</td>\n",
       "      <td>0.0</td>\n",
       "      <td>0.0</td>\n",
       "      <td>Feb</td>\n",
       "      <td>3</td>\n",
       "      <td>3</td>\n",
       "      <td>1</td>\n",
       "      <td>4</td>\n",
       "      <td>Returning_Visitor</td>\n",
       "      <td>True</td>\n",
       "      <td>False</td>\n",
       "    </tr>\n",
       "  </tbody>\n",
       "</table>\n",
       "</div>"
      ],
      "text/plain": [
       "   Administrative  Administrative_Duration  Informational   \n",
       "0               0                      0.0              0  \\\n",
       "1               0                      0.0              0   \n",
       "2               0                      0.0              0   \n",
       "3               0                      0.0              0   \n",
       "4               0                      0.0              0   \n",
       "\n",
       "   Informational_Duration  ProductRelated  ProductRelated_Duration   \n",
       "0                     0.0               1                 0.000000  \\\n",
       "1                     0.0               2                64.000000   \n",
       "2                     0.0               1                 0.000000   \n",
       "3                     0.0               2                 2.666667   \n",
       "4                     0.0              10               627.500000   \n",
       "\n",
       "   BounceRates  ExitRates  PageValues  SpecialDay Month  OperatingSystems   \n",
       "0         0.20       0.20         0.0         0.0   Feb                 1  \\\n",
       "1         0.00       0.10         0.0         0.0   Feb                 2   \n",
       "2         0.20       0.20         0.0         0.0   Feb                 4   \n",
       "3         0.05       0.14         0.0         0.0   Feb                 3   \n",
       "4         0.02       0.05         0.0         0.0   Feb                 3   \n",
       "\n",
       "   Browser  Region  TrafficType        VisitorType  Weekend  Revenue  \n",
       "0        1       1            1  Returning_Visitor    False    False  \n",
       "1        2       1            2  Returning_Visitor    False    False  \n",
       "2        1       9            3  Returning_Visitor    False    False  \n",
       "3        2       2            4  Returning_Visitor    False    False  \n",
       "4        3       1            4  Returning_Visitor     True    False  "
      ]
     },
     "execution_count": 4,
     "metadata": {},
     "output_type": "execute_result"
    }
   ],
   "source": [
    "df.head()"
   ]
  },
  {
   "cell_type": "code",
   "execution_count": 5,
   "metadata": {},
   "outputs": [],
   "source": [
    "from sklearn.preprocessing import StandardScaler\n",
    "from sklearn.linear_model import LogisticRegression\n",
    "from sklearn.ensemble import RandomForestClassifier\n",
    "from sklearn.model_selection import train_test_split, GridSearchCV\n",
    "from sklearn.preprocessing import StandardScaler\n",
    "import numpy as np\n",
    "import pandas as pd\n",
    "import sklearn.metrics as metrics\n",
    "import warnings\n",
    "warnings.filterwarnings('ignore')\n",
    "import matplotlib.pyplot as plt\n",
    "from matplotlib import pyplot\n",
    "from sklearn.metrics import classification_report"
   ]
  },
  {
   "cell_type": "code",
   "execution_count": 6,
   "metadata": {},
   "outputs": [
    {
     "data": {
      "text/plain": [
       "<Axes: xlabel='Revenue'>"
      ]
     },
     "execution_count": 6,
     "metadata": {},
     "output_type": "execute_result"
    },
    {
     "data": {
      "image/png": "[encoded data removed]",
      "text/plain": [
       "<Figure size 640x480 with 1 Axes>"
      ]
     },
     "metadata": {},
     "output_type": "display_data"
    }
   ],
   "source": [
    "def preprocessing(df,columns):\n",
    "    df.dropna(inplace=True) \n",
    "    df.replace(['Returning_Visitor', 'New_Visitor','Other'],[1,2,3], inplace=True)\n",
    "    df.replace(['Jan','Feb','Mar','Apr','May','June','Jul','Aug','Sep','Oct','Nov','Dec'],[1,2,3,4,5,6,7,8,9,10,11,12],inplace=True)\n",
    "    if columns!=[]: \n",
    "        df=df[columns]\n",
    "    return df\n",
    "\n",
    "def Split(df):\n",
    "    X = df.drop('Revenue', axis=1)\n",
    "    y = df['Revenue']\n",
    "    obj_escalar = StandardScaler()\n",
    "    X_standardization = obj_escalar.fit_transform(X)\n",
    "    X_train, X_test, Y_train, Y_test = train_test_split(X, y, test_size=0.2, random_state=1234)\n",
    "    return X_train, X_test, Y_train, Y_test\n",
    " \n",
    "df=preprocessing(df,[])\n",
    "X_train, X_test, Y_train, Y_test=Split(df)\n",
    "df['Revenue'].value_counts().plot.bar()"
   ]
  },
  {
   "cell_type": "code",
   "execution_count": 7,
   "metadata": {},
   "outputs": [],
   "source": [
    "# We observe that the data are imbalanced. There is a lot more 'Revenue = False' observations than 'Revenue = True'. We will therefore have to take it into account in our models."
   ]
  },
  {
   "cell_type": "code",
   "execution_count": 8,
   "metadata": {},
   "outputs": [
    {
     "data": {
      "text/plain": [
       "'\\n> BASELINE LOGISTIC REGRESSION\\nThe “balanced” mode uses the values of y to automatically adjust weights inversely proportional to class frequencies in the input data as n_samples / (n_classes * np.bincount(y)).\\nCfloat, default=1.0 Inverse of regularization strength; must be a positive float --> smaller values specify stronger regularization.\\n'"
      ]
     },
     "execution_count": 8,
     "metadata": {},
     "output_type": "execute_result"
    }
   ],
   "source": [
    "\"\"\"\n",
    "> BASELINE LOGISTIC REGRESSION\n",
    "The “balanced” mode uses the values of y to automatically adjust weights inversely proportional to class frequencies in the input data as n_samples / (n_classes * np.bincount(y)).\n",
    "Cfloat, default=1.0 Inverse of regularization strength; must be a positive float --> smaller values specify stronger regularization.\n",
    "\"\"\""
   ]
  },
  {
   "cell_type": "code",
   "execution_count": 9,
   "metadata": {},
   "outputs": [
    {
     "name": "stdout",
     "output_type": "stream",
     "text": [
      "\n",
      "Accuracy\t0.858\n",
      "\n",
      "Recall\t0.74\n"
     ]
    },
    {
     "data": {
      "text/plain": [
       "{'C': 1.0,\n",
       " 'class_weight': 'balanced',\n",
       " 'dual': False,\n",
       " 'fit_intercept': True,\n",
       " 'intercept_scaling': 1,\n",
       " 'l1_ratio': None,\n",
       " 'max_iter': 100,\n",
       " 'multi_class': 'auto',\n",
       " 'n_jobs': None,\n",
       " 'penalty': 'l2',\n",
       " 'random_state': None,\n",
       " 'solver': 'lbfgs',\n",
       " 'tol': 0.0001,\n",
       " 'verbose': 0,\n",
       " 'warm_start': False}"
      ]
     },
     "execution_count": 9,
     "metadata": {},
     "output_type": "execute_result"
    }
   ],
   "source": [
    "model1 = LogisticRegression(class_weight='balanced')\n",
    "model1.fit(X_train, Y_train)\n",
    "y_pred=model1.predict(X_test)\n",
    "print(\"\\nAccuracy\\t{}\".format(round(metrics.accuracy_score(Y_test, y_pred),3)))  \n",
    "print(\"\\nRecall\\t{}\".format(round(metrics.recall_score(Y_test, y_pred),3)))  \n",
    "model1.get_params()"
   ]
  },
  {
   "cell_type": "code",
   "execution_count": 10,
   "metadata": {},
   "outputs": [
    {
     "name": "stdout",
     "output_type": "stream",
     "text": [
      "{'C': 0.001} \n",
      "Acc: 0.865\n"
     ]
    }
   ],
   "source": [
    "parametres = {\"C\": [0.001, 0.008, 0.01, 0.02, 0.03, 0.04, 0.05, 0.06,0.07, 0.1]}\n",
    "model1_gs = GridSearchCV(model1, param_grid=parametres,\n",
    "                         cv = 10, scoring='accuracy')\n",
    "model1_gs.fit(X_train, Y_train)\n",
    "print(model1_gs.best_params_, \"\\nAcc: {}\".format(round(model1_gs.best_score_,3)))"
   ]
  },
  {
   "cell_type": "code",
   "execution_count": 11,
   "metadata": {},
   "outputs": [
    {
     "name": "stdout",
     "output_type": "stream",
     "text": [
      "Best_parameter {'C': 0.001} \n",
      "Acc: 0.865\n"
     ]
    },
    {
     "data": {
      "image/png": "[encoded data removed]",
      "text/plain": [
       "<Figure size 640x480 with 1 Axes>"
      ]
     },
     "metadata": {},
     "output_type": "display_data"
    }
   ],
   "source": [
    "df_search = pd.DataFrame.from_dict(model1_gs.cv_results_)\n",
    "plt.xlabel('C')\n",
    "plt.ylabel('Acc')\n",
    "_ = plt.plot(df_search['param_C'], df_search['mean_test_score'], 'x')\n",
    "print('Best_parameter',model1_gs.best_params_, \"\\nAcc: {}\".format(round(model1_gs.best_score_,3)))"
   ]
  },
  {
   "cell_type": "code",
   "execution_count": 12,
   "metadata": {},
   "outputs": [
    {
     "data": {
      "image/png": "[encoded data removed]",
      "text/plain": [
       "<Figure size 640x480 with 1 Axes>"
      ]
     },
     "metadata": {},
     "output_type": "display_data"
    }
   ],
   "source": [
    "model1 = LogisticRegression(class_weight='balanced', C=model1_gs.best_params_.get(\"C\"))\n",
    "model1.fit(X_train, Y_train)\n",
    "y_test_pred_prob = model1.predict_proba(X_test)\n",
    "y_test_pred_prob_pos = y_test_pred_prob[np.where(Y_test == 1)[0]]\n",
    "y_test_pred_prob_neg = y_test_pred_prob[np.where(Y_test == 0)[0]]\n",
    "\n",
    "def representation_seuil(x_1, x_0, n_bins=11, title='This figure represents in blue the probabilities assigned by the model to data that are 1, and in red the probabilities assigned to the data that are 0', label_1='Clase 1', \n",
    "                          label_0='Clase 0', density=0):\n",
    "    bins = n_bins\n",
    "    plt.hist(x_1, bins, density = density, alpha=0.5, label=label_1, color='blue')    \n",
    "    plt.hist(x_0, bins, density = density, alpha=0.5, label=label_0, color='red')\n",
    "    plt.title(title)\n",
    "    plt.legend(loc='best') \n",
    "    \n",
    "representation_seuil(y_test_pred_prob_pos[:, 1], y_test_pred_prob_neg[:, 1], n_bins=21, density=0)    \n"
   ]
  },
  {
   "cell_type": "code",
   "execution_count": 13,
   "metadata": {},
   "outputs": [
    {
     "name": "stdout",
     "output_type": "stream",
     "text": [
      "Matriz de confusión\n",
      " [[1844  238]\n",
      " [  91  293]]\n",
      "\n",
      "Accuracy\t0.867\n",
      "Sensitivity\t0.763\n",
      "Precision\t0.552\n"
     ]
    }
   ],
   "source": [
    "THRESHOLD = 0.5\n",
    "y_THRESHOLD = 1*(y_test_pred_prob[:, 1] > THRESHOLD)\n",
    "\n",
    "print(u\"Matriz de confusión\\n\", metrics.confusion_matrix(Y_test, y_THRESHOLD))\n",
    "print(\"\\nAccuracy\\t{}\".format(round(metrics.accuracy_score(Y_test, y_THRESHOLD),3)))  \n",
    "print(\"Sensitivity\\t{}\".format(round(metrics.recall_score(Y_test, y_THRESHOLD),3)))\n",
    "print(u\"Precision\\t{}\".format(round(metrics.precision_score(Y_test, y_THRESHOLD),3))) "
   ]
  },
  {
   "cell_type": "code",
   "execution_count": 14,
   "metadata": {},
   "outputs": [
    {
     "name": "stdout",
     "output_type": "stream",
     "text": [
      "Matrice de confusion\n",
      " [[1900  182]\n",
      " [ 125  259]]\n",
      "\n",
      "Accuracy\t0.876\n",
      "Sensitivity\t0.674\n",
      "Precision\t0.587\n"
     ]
    }
   ],
   "source": [
    "THRESHOLD = 0.6\n",
    "y_THRESHOLD = 1*(y_test_pred_prob[:, 1] > THRESHOLD)\n",
    "\n",
    "print(u\"Matrice de confusion\\n\", metrics.confusion_matrix(Y_test, y_THRESHOLD))\n",
    "print(\"\\nAccuracy\\t{}\".format(round(metrics.accuracy_score(Y_test, y_THRESHOLD),3)))  \n",
    "print(\"Sensitivity\\t{}\".format(round(metrics.recall_score(Y_test, y_THRESHOLD),3)))\n",
    "print(u\"Precision\\t{}\".format(round(metrics.precision_score(Y_test, y_THRESHOLD),3))) "
   ]
  },
  {
   "cell_type": "code",
   "execution_count": 15,
   "metadata": {},
   "outputs": [
    {
     "name": "stdout",
     "output_type": "stream",
     "text": [
      "Matrice de confusion\n",
      " [[1873  209]\n",
      " [ 112  272]]\n",
      "\n",
      "Accuracy\t0.87\n",
      "Sensitivity\t0.708\n",
      "Precision\t0.565\n"
     ]
    }
   ],
   "source": [
    "THRESHOLD = 0.55\n",
    "y_THRESHOLD = 1*(y_test_pred_prob[:, 1] > THRESHOLD)\n",
    "\n",
    "print(u\"Matrice de confusion\\n\", metrics.confusion_matrix(Y_test, y_THRESHOLD))\n",
    "print(\"\\nAccuracy\\t{}\".format(round(metrics.accuracy_score(Y_test, y_THRESHOLD),3)))  \n",
    "print(\"Sensitivity\\t{}\".format(round(metrics.recall_score(Y_test, y_THRESHOLD),3)))\n",
    "print(u\"Precision\\t{}\".format(round(metrics.precision_score(Y_test, y_THRESHOLD),3)))"
   ]
  },
  {
   "cell_type": "code",
   "execution_count": 16,
   "metadata": {},
   "outputs": [],
   "source": [
    "# We will keep the threshold of 0.55 which allows to have a good trade-off between accuracy and recall"
   ]
  },
  {
   "cell_type": "code",
   "execution_count": 17,
   "metadata": {},
   "outputs": [
    {
     "name": "stdout",
     "output_type": "stream",
     "text": [
      "Feature: Administrative Score: 0.02885713937723401\n",
      "Feature: Administrative_Duration Score: -7.566327840390708e-06\n",
      "Feature: Informational Score: 0.011753498684698957\n",
      "Feature: Informational_Duration Score: -4.391179877101485e-05\n",
      "Feature: ProductRelated Score: 0.003403229140850976\n",
      "Feature: ProductRelated_Duration Score: 0.00010696625853802632\n",
      "Feature: BounceRates Score: -0.006536826889379618\n",
      "Feature: ExitRates Score: -0.009476670152546818\n",
      "Feature: PageValues Score: 0.1156971903064263\n",
      "Feature: SpecialDay Score: -0.0205103016614486\n",
      "Feature: Month Score: 0.010259242955918391\n",
      "Feature: OperatingSystems Score: -0.16897998672208936\n",
      "Feature: Browser Score: -0.13281141807127536\n",
      "Feature: Region Score: -0.11491142725370121\n",
      "Feature: TrafficType Score: -0.017612804922017816\n",
      "Feature: VisitorType Score: -0.06826741112511096\n",
      "Feature: Weekend Score: -0.0016931805845384216\n"
     ]
    },
    {
     "data": {
      "image/png": "[encoded data removed]",
      "text/plain": [
       "<Figure size 640x480 with 1 Axes>"
      ]
     },
     "metadata": {},
     "output_type": "display_data"
    },
    {
     "data": {
      "text/plain": [
       "['PageValues', 'OperatingSystems', 'Browser', 'Region', 'VisitorType']"
      ]
     },
     "execution_count": 17,
     "metadata": {},
     "output_type": "execute_result"
    }
   ],
   "source": [
    "importance = model1.coef_[0]\n",
    "important_features=[]\n",
    "# summarize feature importance\n",
    "for i,v in enumerate(importance):\n",
    "    print('Feature:',df.columns[i],'Score:', v)\n",
    "    if (v>0.04 or v<-0.04):\n",
    "        important_features.append(df.columns[i])\n",
    "# plot feature importance\n",
    "plt.bar([x for x in range(len(importance))], importance)\n",
    "plt.show()\n",
    "\n",
    "important_features"
   ]
  },
  {
   "cell_type": "code",
   "execution_count": 19,
   "metadata": {},
   "outputs": [],
   "source": [
    "df = pd.read_csv(\"/config/workspace/machine datasets/online_shoppers_intention.csv\")\n",
    "columns=important_features+['Revenue']\n",
    "df_less_features=preprocessing(df,columns)\n",
    "X_train, X_test, Y_train, Y_test=Split(df_less_features)"
   ]
  },
  {
   "cell_type": "code",
   "execution_count": 20,
   "metadata": {},
   "outputs": [
    {
     "name": "stdout",
     "output_type": "stream",
     "text": [
      "{'C': 0.05} \n",
      "Acc: 0.89\n"
     ]
    }
   ],
   "source": [
    "model1 = LogisticRegression(class_weight='balanced')\n",
    "parametres = {\"C\": [0.001, 0.008, 0.01, 0.02, 0.03, 0.04, 0.05, 0.06,0.07, 0.1]}\n",
    "model1_gs = GridSearchCV(model1, param_grid=parametres,\n",
    "                         cv = 10, scoring='accuracy')\n",
    "model1_gs.fit(X_train, Y_train)\n",
    "print(model1_gs.best_params_, \"\\nAcc: {}\".format(round(model1_gs.best_score_,3)))"
   ]
  },
  {
   "cell_type": "code",
   "execution_count": 21,
   "metadata": {},
   "outputs": [
    {
     "data": {
      "image/png": "[encoded data removed]",
      "text/plain": [
       "<Figure size 640x480 with 1 Axes>"
      ]
     },
     "metadata": {},
     "output_type": "display_data"
    }
   ],
   "source": [
    "model1 = LogisticRegression(class_weight='balanced', C=model1_gs.best_params_.get(\"C\"))\n",
    "model1.fit(X_train, Y_train)\n",
    "y_test_pred_prob = model1.predict_proba(X_test)\n",
    "y_test_pred_prob_pos = y_test_pred_prob[np.where(Y_test == 1)[0]]\n",
    "y_test_pred_prob_neg = y_test_pred_prob[np.where(Y_test == 0)[0]]\n",
    "\n",
    "def representation_seuil(x_1, x_0, n_bins=11, title='', label_1='Classe 1', \n",
    "                          label_0='Classe 0', density=0):\n",
    "    bins = n_bins\n",
    "    plt.hist(x_1, bins, density = density, alpha=0.5, label=label_1, color='blue')    \n",
    "    plt.hist(x_0, bins, density = density, alpha=0.5, label=label_0, color='red')\n",
    "    plt.title(title)\n",
    "    plt.legend(loc='best') \n",
    "    \n",
    "representation_seuil(y_test_pred_prob_pos[:, 1], y_test_pred_prob_neg[:, 1], n_bins=21, density=0)    "
   ]
  },
  {
   "cell_type": "code",
   "execution_count": 22,
   "metadata": {},
   "outputs": [
    {
     "name": "stdout",
     "output_type": "stream",
     "text": [
      "Matriz de confusion\n",
      " [[1962  120]\n",
      " [ 135  249]]\n",
      "\n",
      "Accuracy\t0.897\n",
      "Sensitivity\t0.648\n",
      "Precision\t0.675\n"
     ]
    }
   ],
   "source": [
    "THRESHOLD = 0.6\n",
    "y_threshold = 1*(y_test_pred_prob[:, 1] > THRESHOLD)\n",
    "\n",
    "print(u\"Matriz de confusion\\n\", metrics.confusion_matrix(Y_test, y_threshold))\n",
    "print(\"\\nAccuracy\\t{}\".format(round(metrics.accuracy_score(Y_test, y_threshold),3)))  \n",
    "print(\"Sensitivity\\t{}\".format(round(metrics.recall_score(Y_test, y_threshold),3)))\n",
    "print(u\"Precision\\t{}\".format(round(metrics.precision_score(Y_test, y_threshold),3)))"
   ]
  },
  {
   "cell_type": "code",
   "execution_count": 23,
   "metadata": {},
   "outputs": [
    {
     "name": "stdout",
     "output_type": "stream",
     "text": [
      "Matriz de confusion\n",
      " [[1946  136]\n",
      " [ 123  261]]\n",
      "\n",
      "Accuracy\t0.895\n",
      "Sensitivity\t0.68\n",
      "Precision\t0.657\n"
     ]
    }
   ],
   "source": [
    "THRESHOLD = 0.55\n",
    "y_threshold = 1*(y_test_pred_prob[:, 1] > THRESHOLD)\n",
    "\n",
    "print(u\"Matriz de confusion\\n\", metrics.confusion_matrix(Y_test, y_threshold))\n",
    "print(\"\\nAccuracy\\t{}\".format(round(metrics.accuracy_score(Y_test, y_threshold),3)))  \n",
    "print(\"Sensitivity\\t{}\".format(round(metrics.recall_score(Y_test, y_threshold),3)))\n",
    "print(u\"Precision\\t{}\".format(round(metrics.precision_score(Y_test, y_threshold),3)))"
   ]
  },
  {
   "cell_type": "code",
   "execution_count": 24,
   "metadata": {},
   "outputs": [
    {
     "name": "stdout",
     "output_type": "stream",
     "text": [
      "Matriz de confusion\n",
      " [[1930  152]\n",
      " [ 114  270]]\n",
      "\n",
      "Accuracy\t0.892\n",
      "Sensitivity\t0.703\n",
      "Precision\t0.64\n"
     ]
    }
   ],
   "source": [
    "THRESHOLD = 0.5\n",
    "y_threshold = 1*(y_test_pred_prob[:, 1] > THRESHOLD)\n",
    "\n",
    "print(u\"Matriz de confusion\\n\", metrics.confusion_matrix(Y_test, y_threshold))\n",
    "print(\"\\nAccuracy\\t{}\".format(round(metrics.accuracy_score(Y_test, y_threshold),3)))  \n",
    "print(\"Sensitivity\\t{}\".format(round(metrics.recall_score(Y_test, y_threshold),3)))\n",
    "print(u\"Precision\\t{}\".format(round(metrics.precision_score(Y_test, y_threshold),3)))"
   ]
  },
  {
   "cell_type": "code",
   "execution_count": 25,
   "metadata": {},
   "outputs": [],
   "source": [
    "# > > MODEL 2 RANDOM FOREST"
   ]
  },
  {
   "cell_type": "code",
   "execution_count": 26,
   "metadata": {},
   "outputs": [
    {
     "name": "stdout",
     "output_type": "stream",
     "text": [
      "Results Random Forest with no optimization\n",
      "              precision    recall  f1-score   support\n",
      "\n",
      "       False       0.92      0.95      0.94      2082\n",
      "        True       0.67      0.57      0.61       384\n",
      "\n",
      "    accuracy                           0.89      2466\n",
      "   macro avg       0.80      0.76      0.77      2466\n",
      "weighted avg       0.88      0.89      0.89      2466\n",
      "\n",
      "0.8888888888888888\n"
     ]
    }
   ],
   "source": [
    "model2 = RandomForestClassifier(n_estimators = 30,max_depth = 10,random_state = 101)\n",
    "model2.fit(X_train,Y_train)\n",
    "pred = model2.predict(X_test)\n",
    "print('Results Random Forest with no optimization')\n",
    "print(classification_report(Y_test,pred))\n",
    "print(model2.score(X_test,Y_test))\n"
   ]
  },
  {
   "cell_type": "code",
   "execution_count": 28,
   "metadata": {},
   "outputs": [
    {
     "name": "stdout",
     "output_type": "stream",
     "text": [
      "Fitting 5 folds for each of 16 candidates, totalling 80 fits\n"
     ]
    },
    {
     "data": {
      "text/plain": [
       "{'max_depth': 10,\n",
       " 'min_samples_leaf': 2,\n",
       " 'min_samples_split': 2,\n",
       " 'n_estimators': 60}"
      ]
     },
     "execution_count": 28,
     "metadata": {},
     "output_type": "execute_result"
    }
   ],
   "source": [
    "param_grid = {\n",
    "    'n_estimators' : [60,100],\n",
    "    'max_depth' : [10,15],\n",
    "    'min_samples_leaf' : [2,4],\n",
    "    'min_samples_split': [2,4]\n",
    "}\n",
    "\n",
    "gridsearch = GridSearchCV(estimator=model2,param_grid=param_grid,verbose = 1)\n",
    "gridsearch.fit(X_train,Y_train)\n",
    "gridsearch.best_params_"
   ]
  },
  {
   "cell_type": "code",
   "execution_count": 29,
   "metadata": {},
   "outputs": [
    {
     "name": "stdout",
     "output_type": "stream",
     "text": [
      "              precision    recall  f1-score   support\n",
      "\n",
      "       False       0.92      0.95      0.94      2082\n",
      "        True       0.67      0.57      0.61       384\n",
      "\n",
      "    accuracy                           0.89      2466\n",
      "   macro avg       0.80      0.76      0.77      2466\n",
      "weighted avg       0.88      0.89      0.89      2466\n",
      "\n",
      "Accuracy 0.889294403892944\n"
     ]
    }
   ],
   "source": [
    "model2 = RandomForestClassifier(n_estimators = 60,max_depth = 10,min_samples_leaf = 3, min_samples_split = 2,random_state = 101)\n",
    "model2.fit(X_train,Y_train)\n",
    "pred = model2.predict(X_test)\n",
    "print(classification_report(Y_test,pred))\n",
    "\n",
    "from sklearn.metrics import accuracy_score\n",
    "Acc = accuracy_score(Y_test,pred)\n",
    "print('Accuracy',Acc)"
   ]
  },
  {
   "cell_type": "code",
   "execution_count": null,
   "metadata": {},
   "outputs": [],
   "source": [
    "# Results\n",
    "\n",
    "# We thus obtain in our best logistic regression model: 0.91 accuracy, 0.62 recall.\n",
    "# The logistic regression is finally a better model than random forest to predict shopping intentions"
   ]
  }
 ],
 "metadata": {
  "kernelspec": {
   "display_name": "Python 3.8.10 64-bit",
   "language": "python",
   "name": "python3"
  },
  "language_info": {
   "codemirror_mode": {
    "name": "ipython",
    "version": 3
   },
   "file_extension": ".py",
   "mimetype": "text/x-python",
   "name": "python",
   "nbconvert_exporter": "python",
   "pygments_lexer": "ipython3",
   "version": "3.8.10"
  },
  "orig_nbformat": 4,
  "vscode": {
   "interpreter": {
    "hash": "e7370f93d1d0cde622a1f8e1c04877d8463912d04d973331ad4851f04de6915a"
   }
  }
 },
 "nbformat": 4,
 "nbformat_minor": 2
}
